{
 "cells": [
  {
   "cell_type": "code",
   "execution_count": 6,
   "metadata": {},
   "outputs": [
    {
     "ename": "ImportError",
     "evalue": "cannot import name 'bigquery' from 'google.cloud' (unknown location)",
     "output_type": "error",
     "traceback": [
      "\u001b[0;31m---------------------------------------------------------------------------\u001b[0m",
      "\u001b[0;31mImportError\u001b[0m                               Traceback (most recent call last)",
      "\u001b[1;32m/Users/manuel/gdrive/prgrmmng/courses/henry/git_repos/proyectogrupal/Notebooks/carga_datos_gstorage.ipynb Cell 1\u001b[0m line \u001b[0;36m4\n\u001b[1;32m      <a href='vscode-notebook-cell:/Users/manuel/gdrive/prgrmmng/courses/henry/git_repos/proyectogrupal/Notebooks/carga_datos_gstorage.ipynb#W0sZmlsZQ%3D%3D?line=1'>2</a>\u001b[0m \u001b[39m#from google.colab import files # solo para google collab\u001b[39;00m\n\u001b[1;32m      <a href='vscode-notebook-cell:/Users/manuel/gdrive/prgrmmng/courses/henry/git_repos/proyectogrupal/Notebooks/carga_datos_gstorage.ipynb#W0sZmlsZQ%3D%3D?line=2'>3</a>\u001b[0m \u001b[39mfrom\u001b[39;00m \u001b[39mgoogle\u001b[39;00m\u001b[39m.\u001b[39;00m\u001b[39mcloud\u001b[39;00m \u001b[39mimport\u001b[39;00m storage\n\u001b[0;32m----> <a href='vscode-notebook-cell:/Users/manuel/gdrive/prgrmmng/courses/henry/git_repos/proyectogrupal/Notebooks/carga_datos_gstorage.ipynb#W0sZmlsZQ%3D%3D?line=3'>4</a>\u001b[0m \u001b[39mfrom\u001b[39;00m \u001b[39mgoogle\u001b[39;00m\u001b[39m.\u001b[39;00m\u001b[39mcloud\u001b[39;00m \u001b[39mimport\u001b[39;00m bigquery\n\u001b[1;32m      <a href='vscode-notebook-cell:/Users/manuel/gdrive/prgrmmng/courses/henry/git_repos/proyectogrupal/Notebooks/carga_datos_gstorage.ipynb#W0sZmlsZQ%3D%3D?line=4'>5</a>\u001b[0m \u001b[39mimport\u001b[39;00m \u001b[39mpandas\u001b[39;00m \u001b[39mas\u001b[39;00m \u001b[39mpd\u001b[39;00m\n",
      "\u001b[0;31mImportError\u001b[0m: cannot import name 'bigquery' from 'google.cloud' (unknown location)"
     ]
    }
   ],
   "source": [
    "import json\n",
    "#from google.colab import files # solo para google collab\n",
    "from google.cloud import storage\n",
    "#from google.cloud import bigquery\n",
    "import pandas as pd"
   ]
  },
  {
   "cell_type": "code",
   "execution_count": 3,
   "metadata": {},
   "outputs": [],
   "source": [
    "# google collab\n",
    "# solo se ejecuta la primera vez: cargo el json con las credenciales del api key\n",
    "#object_uploaded = files.upload()"
   ]
  },
  {
   "cell_type": "code",
   "execution_count": 4,
   "metadata": {},
   "outputs": [],
   "source": [
    "# google collab\n",
    "#path_api_key = '/content/extreme-unison-399121-cadd77c555ca.json'\n",
    "\n",
    "# entorno local\n",
    "path_api_key = '/Volumes/hd_mvf_datasets/gdrive/henry/extreme-unison-399121-cadd77c555ca.json'\n",
    "\n",
    "# extraigo las credenciales para el acceso\n",
    "service_account_info = json.load(open(path_api_key))\n",
    "\n",
    "# autorizo el acceso a cloud storage\n",
    "client_storage = storage.Client.from_service_account_info(service_account_info)\n",
    "\n",
    "# autorizo el acceso a BigQuery\n",
    "#client_bigquery = bigquery.Client.from_service_account_info(service_account_info)"
   ]
  },
  {
   "cell_type": "code",
   "execution_count": 5,
   "metadata": {},
   "outputs": [
    {
     "name": "stdout",
     "output_type": "stream",
     "text": [
      "<class 'pandas.core.frame.DataFrame'>\n",
      "RangeIndex: 8400887 entries, 0 to 8400886\n",
      "Data columns (total 17 columns):\n",
      " #   Column           Dtype  \n",
      "---  ------           -----  \n",
      " 0   state            object \n",
      " 1   gmap_id          object \n",
      " 2   user_id          object \n",
      " 3   user_name        object \n",
      " 4   user_time        int64  \n",
      " 5   rating           int64  \n",
      " 6   user_text        object \n",
      " 7   resp_time        float64\n",
      " 8   resp_text        object \n",
      " 9   user_time_year   int32  \n",
      " 10  user_time_month  int32  \n",
      " 11  user_time_day    int32  \n",
      " 12  user_time_hms    object \n",
      " 13  resp_time_year   float64\n",
      " 14  resp_time_month  float64\n",
      " 15  resp_time_day    float64\n",
      " 16  resp_time_hms    object \n",
      "dtypes: float64(4), int32(3), int64(2), object(8)\n",
      "memory usage: 993.5+ MB\n"
     ]
    }
   ],
   "source": [
    "# carga de datos\n",
    "# unicamente para .py en VM:\n",
    "#data_gmaps_reviews_norm = pd.read_parquet('gs://1_transform/data_gmaps_reviews_norm.parquet')\n",
    "\n",
    "# para entorno Google Colab o maquina local:\n",
    "bucket = client_storage.get_bucket('1_transform')\n",
    "data_blob = bucket.blob('data_gmaps_reviews_norm.parquet')\n",
    "#data_blob = bucket.blob('gmaps_metadata_filtrado.parquet')\n",
    "data_gmaps_reviews_norm = pd.read_parquet(storage.fileio.BlobReader(data_blob))\n",
    "data_gmaps_reviews_norm.info()"
   ]
  },
  {
   "cell_type": "code",
   "execution_count": null,
   "metadata": {},
   "outputs": [],
   "source": [
    "# definir la consulta\n",
    "QUERY = (\n",
    "    'SELECT * FROM `extreme-unison-399121.GMaps.gmaps_metadata`'\n",
    "    )\n",
    "query_job = client_bigquery.query(QUERY)  # API request\n",
    "query_result = query_job.result()\n",
    "query_df = query_result.to_dataframe()\n",
    "query_df.info()\n"
   ]
  }
 ],
 "metadata": {
  "kernelspec": {
   "display_name": "pandas_scikit",
   "language": "python",
   "name": "python3"
  },
  "language_info": {
   "codemirror_mode": {
    "name": "ipython",
    "version": 3
   },
   "file_extension": ".py",
   "mimetype": "text/x-python",
   "name": "python",
   "nbconvert_exporter": "python",
   "pygments_lexer": "ipython3",
   "version": "3.11.5"
  }
 },
 "nbformat": 4,
 "nbformat_minor": 2
}
