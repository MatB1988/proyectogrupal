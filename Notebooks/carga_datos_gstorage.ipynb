{
 "cells": [
  {
   "cell_type": "code",
   "execution_count": 1,
   "metadata": {},
   "outputs": [
    {
     "name": "stdout",
     "output_type": "stream",
     "text": [
      "2.6.0\n"
     ]
    }
   ],
   "source": [
    "import json\n",
    "#from google.colab import files # solo para google collab\n",
    "from google.cloud import storage\n",
    "import pandas as pd\n",
    "print(storage.__version__)"
   ]
  },
  {
   "cell_type": "code",
   "execution_count": 7,
   "metadata": {},
   "outputs": [],
   "source": [
    "# google collab\n",
    "#path_api_key = '/content/extreme-unison-399121-cadd77c555ca.json'\n",
    "\n",
    "# entorno local\n",
    "path_api_key = '/Users/manuel/gdrive/prgrmmng/gcloud_api_key/extreme-unison-399121-cadd77c555ca.json'\n",
    "\n",
    "# extraigo las credenciales para el acceso\n",
    "service_account_info = json.load(open(path_api_key))\n",
    "\n",
    "# autorizo el acceso a cloud storage\n",
    "client_storage = storage.Client.from_service_account_info(service_account_info)"
   ]
  },
  {
   "cell_type": "code",
   "execution_count": 8,
   "metadata": {},
   "outputs": [
    {
     "name": "stdout",
     "output_type": "stream",
     "text": [
      "<class 'pandas.core.frame.DataFrame'>\n",
      "Index: 441868 entries, 11 to 3024974\n",
      "Data columns (total 16 columns):\n",
      " #   Column            Non-Null Count   Dtype  \n",
      "---  ------            --------------   -----  \n",
      " 0   name              441868 non-null  object \n",
      " 1   address           439290 non-null  object \n",
      " 2   gmap_id           441868 non-null  object \n",
      " 3   description       197047 non-null  object \n",
      " 4   latitude          441868 non-null  float64\n",
      " 5   longitude         441868 non-null  float64\n",
      " 6   category          441868 non-null  object \n",
      " 7   avg_rating        441868 non-null  float64\n",
      " 8   num_of_reviews    441868 non-null  int64  \n",
      " 9   price             244781 non-null  object \n",
      " 10  hours             401547 non-null  object \n",
      " 11  MISC              436358 non-null  object \n",
      " 12  state             402667 non-null  object \n",
      " 13  relative_results  371024 non-null  object \n",
      " 14  url               441868 non-null  object \n",
      " 15  estado_categoria  441868 non-null  object \n",
      "dtypes: float64(3), int64(1), object(12)\n",
      "memory usage: 57.3+ MB\n"
     ]
    }
   ],
   "source": [
    "# carga de datos\n",
    "# unicamente para .py en VM:\n",
    "#data_gmaps_reviews_norm = pd.read_parquet('gs://1_transform/data_gmaps_reviews_norm.parquet')\n",
    "\n",
    "# para entorno Google Colab o maquina local:\n",
    "bucket = client_storage.get_bucket('1_transform')\n",
    "#data_blob = bucket.blob('data_gmaps_reviews_norm.parquet')\n",
    "data_blob = bucket.blob('gmaps_metadata_filtrado.parquet')\n",
    "data_gmaps_reviews_norm = pd.read_parquet(storage.fileio.BlobReader(data_blob))\n",
    "data_gmaps_reviews_norm.info()"
   ]
  }
 ],
 "metadata": {
  "kernelspec": {
   "display_name": "pandas_scikit",
   "language": "python",
   "name": "python3"
  },
  "language_info": {
   "codemirror_mode": {
    "name": "ipython",
    "version": 3
   },
   "file_extension": ".py",
   "mimetype": "text/x-python",
   "name": "python",
   "nbconvert_exporter": "python",
   "pygments_lexer": "ipython3",
   "version": "3.10.13"
  }
 },
 "nbformat": 4,
 "nbformat_minor": 2
}
