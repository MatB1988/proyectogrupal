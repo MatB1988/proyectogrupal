{
 "cells": [
  {
   "cell_type": "code",
   "execution_count": 2,
   "metadata": {},
   "outputs": [],
   "source": [
    "import json\n",
    "#from google.colab import files # solo para google collab\n",
    "from google.cloud import storage\n",
    "import pandas as pd"
   ]
  },
  {
   "cell_type": "code",
   "execution_count": 3,
   "metadata": {},
   "outputs": [],
   "source": [
    "# google collab\n",
    "# solo se ejecuta la primera vez: cargo el json con las credenciales del api key\n",
    "#object_uploaded = files.upload()"
   ]
  },
  {
   "cell_type": "code",
   "execution_count": 4,
   "metadata": {},
   "outputs": [],
   "source": [
    "# google collab\n",
    "#path_api_key = '/content/extreme-unison-399121-cadd77c555ca.json'\n",
    "\n",
    "# entorno local\n",
    "path_api_key = '/Volumes/hd_mvf_datasets/gdrive/henry/extreme-unison-399121-cadd77c555ca.json'\n",
    "\n",
    "# autorizo el acceso a cloud storage\n",
    "service_account_info = json.load(open(path_api_key))\n",
    "client = storage.Client.from_service_account_info(service_account_info)"
   ]
  },
  {
   "cell_type": "code",
   "execution_count": 5,
   "metadata": {},
   "outputs": [
    {
     "name": "stdout",
     "output_type": "stream",
     "text": [
      "<class 'pandas.core.frame.DataFrame'>\n",
      "RangeIndex: 8400887 entries, 0 to 8400886\n",
      "Data columns (total 17 columns):\n",
      " #   Column           Dtype  \n",
      "---  ------           -----  \n",
      " 0   state            object \n",
      " 1   gmap_id          object \n",
      " 2   user_id          object \n",
      " 3   user_name        object \n",
      " 4   user_time        int64  \n",
      " 5   rating           int64  \n",
      " 6   user_text        object \n",
      " 7   resp_time        float64\n",
      " 8   resp_text        object \n",
      " 9   user_time_year   int32  \n",
      " 10  user_time_month  int32  \n",
      " 11  user_time_day    int32  \n",
      " 12  user_time_hms    object \n",
      " 13  resp_time_year   float64\n",
      " 14  resp_time_month  float64\n",
      " 15  resp_time_day    float64\n",
      " 16  resp_time_hms    object \n",
      "dtypes: float64(4), int32(3), int64(2), object(8)\n",
      "memory usage: 993.5+ MB\n"
     ]
    }
   ],
   "source": [
    "# carga de datos\n",
    "# unicamente para .py en VM:\n",
    "#data_gmaps_reviews_norm = pd.read_parquet('gs://1_transform/data_gmaps_reviews_norm.parquet')\n",
    "\n",
    "# para entorno Google Colab o maquina local:\n",
    "bucket = client.get_bucket('1_transform')\n",
    "data_blob = bucket.blob('data_gmaps_reviews_norm.parquet')\n",
    "#data_blob = bucket.blob('gmaps_metadata_filtrado.parquet')\n",
    "data_gmaps_reviews_norm = pd.read_parquet(storage.fileio.BlobReader(data_blob))\n",
    "data_gmaps_reviews_norm.info()"
   ]
  }
 ],
 "metadata": {
  "kernelspec": {
   "display_name": "pandas_scikit",
   "language": "python",
   "name": "python3"
  },
  "language_info": {
   "codemirror_mode": {
    "name": "ipython",
    "version": 3
   },
   "file_extension": ".py",
   "mimetype": "text/x-python",
   "name": "python",
   "nbconvert_exporter": "python",
   "pygments_lexer": "ipython3",
   "version": "3.11.5"
  }
 },
 "nbformat": 4,
 "nbformat_minor": 2
}
