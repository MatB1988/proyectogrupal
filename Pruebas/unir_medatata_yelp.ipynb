{
 "cells": [
  {
   "cell_type": "code",
   "execution_count": 1,
   "metadata": {},
   "outputs": [],
   "source": [
    "import pandas as pd\n",
    "import numpy as np"
   ]
  },
  {
   "cell_type": "code",
   "execution_count": 2,
   "metadata": {},
   "outputs": [],
   "source": [
    "gmaps = pd.read_csv('C:/Users/54280/Documents/GitHub/proyectogrupal/Pruebas/gmaps_filtrado.csv')\n",
    "business = pd.read_parquet('C:/Users/54280/Documents/GitHub/proyectogrupal/Pruebas/business.parquet')"
   ]
  },
  {
   "cell_type": "code",
   "execution_count": 13,
   "metadata": {},
   "outputs": [
    {
     "data": {
      "text/html": [
       "<div>\n",
       "<style scoped>\n",
       "    .dataframe tbody tr th:only-of-type {\n",
       "        vertical-align: middle;\n",
       "    }\n",
       "\n",
       "    .dataframe tbody tr th {\n",
       "        vertical-align: top;\n",
       "    }\n",
       "\n",
       "    .dataframe thead th {\n",
       "        text-align: right;\n",
       "    }\n",
       "</style>\n",
       "<table border=\"1\" class=\"dataframe\">\n",
       "  <thead>\n",
       "    <tr style=\"text-align: right;\">\n",
       "      <th></th>\n",
       "      <th>Unnamed: 0</th>\n",
       "      <th>name</th>\n",
       "      <th>address</th>\n",
       "      <th>gmap_id</th>\n",
       "      <th>description</th>\n",
       "      <th>latitude</th>\n",
       "      <th>longitude</th>\n",
       "      <th>category</th>\n",
       "      <th>avg_rating</th>\n",
       "      <th>num_of_reviews</th>\n",
       "      <th>price</th>\n",
       "      <th>hours</th>\n",
       "      <th>MISC</th>\n",
       "      <th>state</th>\n",
       "      <th>relative_results</th>\n",
       "      <th>url</th>\n",
       "      <th>estado_categoria</th>\n",
       "    </tr>\n",
       "  </thead>\n",
       "  <tbody>\n",
       "    <tr>\n",
       "      <th>0</th>\n",
       "      <td>2</td>\n",
       "      <td>San Soo Dang</td>\n",
       "      <td>San Soo Dang, 761 S Vermont Ave, Los Angeles, ...</td>\n",
       "      <td>0x80c2c778e3b73d33:0xbdc58662a4a97d49</td>\n",
       "      <td>NaN</td>\n",
       "      <td>34.058092</td>\n",
       "      <td>-118.292130</td>\n",
       "      <td>korean restaurant</td>\n",
       "      <td>4.4</td>\n",
       "      <td>18</td>\n",
       "      <td>NaN</td>\n",
       "      <td>[['Thursday', '6:30AM–6PM'], ['Friday', '6:30A...</td>\n",
       "      <td>{'Service options': ['Takeout', 'Dine-in', 'De...</td>\n",
       "      <td>Open ⋅ Closes 6PM</td>\n",
       "      <td>['0x80c2c78249aba68f:0x35bf16ce61be751d', '0x8...</td>\n",
       "      <td>https://www.google.com/maps/place//data=!4m2!3...</td>\n",
       "      <td>Open</td>\n",
       "    </tr>\n",
       "    <tr>\n",
       "      <th>1</th>\n",
       "      <td>6</td>\n",
       "      <td>Vons Chicken</td>\n",
       "      <td>Vons Chicken, 12740 La Mirada Blvd, La Mirada,...</td>\n",
       "      <td>0x80dd2b4c8555edb7:0xfc33d65c4bdbef42</td>\n",
       "      <td>NaN</td>\n",
       "      <td>33.916402</td>\n",
       "      <td>-118.010855</td>\n",
       "      <td>restaurant</td>\n",
       "      <td>4.5</td>\n",
       "      <td>18</td>\n",
       "      <td>NaN</td>\n",
       "      <td>[['Thursday', '11AM–9:30PM'], ['Friday', '11AM...</td>\n",
       "      <td>{'Service options': ['Outdoor seating', 'Curbs...</td>\n",
       "      <td>Open ⋅ Closes 9:30PM</td>\n",
       "      <td>NaN</td>\n",
       "      <td>https://www.google.com/maps/place//data=!4m2!3...</td>\n",
       "      <td>Open</td>\n",
       "    </tr>\n",
       "  </tbody>\n",
       "</table>\n",
       "</div>"
      ],
      "text/plain": [
       "   Unnamed: 0          name  \\\n",
       "0           2  San Soo Dang   \n",
       "1           6  Vons Chicken   \n",
       "\n",
       "                                             address  \\\n",
       "0  San Soo Dang, 761 S Vermont Ave, Los Angeles, ...   \n",
       "1  Vons Chicken, 12740 La Mirada Blvd, La Mirada,...   \n",
       "\n",
       "                                 gmap_id description   latitude   longitude  \\\n",
       "0  0x80c2c778e3b73d33:0xbdc58662a4a97d49         NaN  34.058092 -118.292130   \n",
       "1  0x80dd2b4c8555edb7:0xfc33d65c4bdbef42         NaN  33.916402 -118.010855   \n",
       "\n",
       "            category  avg_rating  num_of_reviews price  \\\n",
       "0  korean restaurant         4.4              18   NaN   \n",
       "1         restaurant         4.5              18   NaN   \n",
       "\n",
       "                                               hours  \\\n",
       "0  [['Thursday', '6:30AM–6PM'], ['Friday', '6:30A...   \n",
       "1  [['Thursday', '11AM–9:30PM'], ['Friday', '11AM...   \n",
       "\n",
       "                                                MISC                 state  \\\n",
       "0  {'Service options': ['Takeout', 'Dine-in', 'De...     Open ⋅ Closes 6PM   \n",
       "1  {'Service options': ['Outdoor seating', 'Curbs...  Open ⋅ Closes 9:30PM   \n",
       "\n",
       "                                    relative_results  \\\n",
       "0  ['0x80c2c78249aba68f:0x35bf16ce61be751d', '0x8...   \n",
       "1                                                NaN   \n",
       "\n",
       "                                                 url estado_categoria  \n",
       "0  https://www.google.com/maps/place//data=!4m2!3...             Open  \n",
       "1  https://www.google.com/maps/place//data=!4m2!3...             Open  "
      ]
     },
     "execution_count": 13,
     "metadata": {},
     "output_type": "execute_result"
    }
   ],
   "source": [
    "gmaps.head(2)"
   ]
  },
  {
   "cell_type": "code",
   "execution_count": 3,
   "metadata": {},
   "outputs": [
    {
     "name": "stdout",
     "output_type": "stream",
     "text": [
      "<class 'pandas.core.frame.DataFrame'>\n",
      "RangeIndex: 441868 entries, 0 to 441867\n",
      "Data columns (total 17 columns):\n",
      " #   Column            Non-Null Count   Dtype  \n",
      "---  ------            --------------   -----  \n",
      " 0   Unnamed: 0        441868 non-null  int64  \n",
      " 1   name              441860 non-null  object \n",
      " 2   address           439290 non-null  object \n",
      " 3   gmap_id           441868 non-null  object \n",
      " 4   description       197047 non-null  object \n",
      " 5   latitude          441868 non-null  float64\n",
      " 6   longitude         441868 non-null  float64\n",
      " 7   category          441868 non-null  object \n",
      " 8   avg_rating        441868 non-null  float64\n",
      " 9   num_of_reviews    441868 non-null  int64  \n",
      " 10  price             244781 non-null  object \n",
      " 11  hours             401547 non-null  object \n",
      " 12  MISC              436358 non-null  object \n",
      " 13  state             402667 non-null  object \n",
      " 14  relative_results  371024 non-null  object \n",
      " 15  url               441868 non-null  object \n",
      " 16  estado_categoria  441868 non-null  object \n",
      "dtypes: float64(3), int64(2), object(12)\n",
      "memory usage: 57.3+ MB\n"
     ]
    }
   ],
   "source": [
    "gmaps.info()"
   ]
  },
  {
   "cell_type": "code",
   "execution_count": 4,
   "metadata": {},
   "outputs": [
    {
     "name": "stdout",
     "output_type": "stream",
     "text": [
      "<class 'pandas.core.frame.DataFrame'>\n",
      "Index: 64629 entries, 3 to 150340\n",
      "Data columns (total 14 columns):\n",
      " #   Column        Non-Null Count  Dtype  \n",
      "---  ------        --------------  -----  \n",
      " 0   business_id   64629 non-null  object \n",
      " 1   name          64629 non-null  object \n",
      " 2   address       64629 non-null  object \n",
      " 3   city          64629 non-null  object \n",
      " 4   state         64629 non-null  object \n",
      " 5   postal_code   64629 non-null  object \n",
      " 6   latitude      64629 non-null  float64\n",
      " 7   longitude     64629 non-null  float64\n",
      " 8   stars         64629 non-null  float64\n",
      " 9   review_count  64629 non-null  int64  \n",
      " 10  is_open       64629 non-null  int64  \n",
      " 11  attributes    63752 non-null  object \n",
      " 12  categories    64629 non-null  object \n",
      " 13  hours         55293 non-null  object \n",
      "dtypes: float64(3), int64(2), object(9)\n",
      "memory usage: 7.4+ MB\n"
     ]
    }
   ],
   "source": [
    "business.info()"
   ]
  },
  {
   "cell_type": "code",
   "execution_count": 10,
   "metadata": {},
   "outputs": [],
   "source": [
    "from fuzzywuzzy import fuzz, process"
   ]
  },
  {
   "cell_type": "code",
   "execution_count": 11,
   "metadata": {},
   "outputs": [
    {
     "ename": "KeyboardInterrupt",
     "evalue": "",
     "output_type": "error",
     "traceback": [
      "\u001b[1;31m---------------------------------------------------------------------------\u001b[0m",
      "\u001b[1;31mKeyboardInterrupt\u001b[0m                         Traceback (most recent call last)",
      "\u001b[1;32mc:\\Users\\54280\\Documents\\GitHub\\proyectogrupal\\Notebooks\\unir_medatata_yelp.ipynb Celda 6\u001b[0m line \u001b[0;36m1\n\u001b[0;32m     <a href='vscode-notebook-cell:/c%3A/Users/54280/Documents/GitHub/proyectogrupal/Notebooks/unir_medatata_yelp.ipynb#W4sZmlsZQ%3D%3D?line=11'>12</a>\u001b[0m     \u001b[39mreturn\u001b[39;00m best_match[\u001b[39m2\u001b[39m]\n\u001b[0;32m     <a href='vscode-notebook-cell:/c%3A/Users/54280/Documents/GitHub/proyectogrupal/Notebooks/unir_medatata_yelp.ipynb#W4sZmlsZQ%3D%3D?line=13'>14</a>\u001b[0m \u001b[39m# Aplicar la función a cada fila en df1\u001b[39;00m\n\u001b[1;32m---> <a href='vscode-notebook-cell:/c%3A/Users/54280/Documents/GitHub/proyectogrupal/Notebooks/unir_medatata_yelp.ipynb#W4sZmlsZQ%3D%3D?line=14'>15</a>\u001b[0m business[\u001b[39m'\u001b[39m\u001b[39mbest_match_index\u001b[39m\u001b[39m'\u001b[39m] \u001b[39m=\u001b[39m business\u001b[39m.\u001b[39;49mapply(find_best_match, args\u001b[39m=\u001b[39;49m(gmaps,), axis\u001b[39m=\u001b[39;49m\u001b[39m1\u001b[39;49m)\n\u001b[0;32m     <a href='vscode-notebook-cell:/c%3A/Users/54280/Documents/GitHub/proyectogrupal/Notebooks/unir_medatata_yelp.ipynb#W4sZmlsZQ%3D%3D?line=16'>17</a>\u001b[0m \u001b[39m# Realizar la unión en base al índice encontrado\u001b[39;00m\n\u001b[0;32m     <a href='vscode-notebook-cell:/c%3A/Users/54280/Documents/GitHub/proyectogrupal/Notebooks/unir_medatata_yelp.ipynb#W4sZmlsZQ%3D%3D?line=17'>18</a>\u001b[0m df_merged \u001b[39m=\u001b[39m business\u001b[39m.\u001b[39mmerge(gmaps, left_index\u001b[39m=\u001b[39m\u001b[39mTrue\u001b[39;00m, right_on\u001b[39m=\u001b[39m\u001b[39m'\u001b[39m\u001b[39mbest_match_index\u001b[39m\u001b[39m'\u001b[39m, how\u001b[39m=\u001b[39m\u001b[39m'\u001b[39m\u001b[39minner\u001b[39m\u001b[39m'\u001b[39m)\n",
      "File \u001b[1;32m~\\AppData\\Local\\Packages\\PythonSoftwareFoundation.Python.3.10_qbz5n2kfra8p0\\LocalCache\\local-packages\\Python310\\site-packages\\pandas\\core\\frame.py:9423\u001b[0m, in \u001b[0;36mDataFrame.apply\u001b[1;34m(self, func, axis, raw, result_type, args, **kwargs)\u001b[0m\n\u001b[0;32m   9412\u001b[0m \u001b[39mfrom\u001b[39;00m \u001b[39mpandas\u001b[39;00m\u001b[39m.\u001b[39;00m\u001b[39mcore\u001b[39;00m\u001b[39m.\u001b[39;00m\u001b[39mapply\u001b[39;00m \u001b[39mimport\u001b[39;00m frame_apply\n\u001b[0;32m   9414\u001b[0m op \u001b[39m=\u001b[39m frame_apply(\n\u001b[0;32m   9415\u001b[0m     \u001b[39mself\u001b[39m,\n\u001b[0;32m   9416\u001b[0m     func\u001b[39m=\u001b[39mfunc,\n\u001b[1;32m   (...)\u001b[0m\n\u001b[0;32m   9421\u001b[0m     kwargs\u001b[39m=\u001b[39mkwargs,\n\u001b[0;32m   9422\u001b[0m )\n\u001b[1;32m-> 9423\u001b[0m \u001b[39mreturn\u001b[39;00m op\u001b[39m.\u001b[39;49mapply()\u001b[39m.\u001b[39m__finalize__(\u001b[39mself\u001b[39m, method\u001b[39m=\u001b[39m\u001b[39m\"\u001b[39m\u001b[39mapply\u001b[39m\u001b[39m\"\u001b[39m)\n",
      "File \u001b[1;32m~\\AppData\\Local\\Packages\\PythonSoftwareFoundation.Python.3.10_qbz5n2kfra8p0\\LocalCache\\local-packages\\Python310\\site-packages\\pandas\\core\\apply.py:678\u001b[0m, in \u001b[0;36mFrameApply.apply\u001b[1;34m(self)\u001b[0m\n\u001b[0;32m    675\u001b[0m \u001b[39melif\u001b[39;00m \u001b[39mself\u001b[39m\u001b[39m.\u001b[39mraw:\n\u001b[0;32m    676\u001b[0m     \u001b[39mreturn\u001b[39;00m \u001b[39mself\u001b[39m\u001b[39m.\u001b[39mapply_raw()\n\u001b[1;32m--> 678\u001b[0m \u001b[39mreturn\u001b[39;00m \u001b[39mself\u001b[39;49m\u001b[39m.\u001b[39;49mapply_standard()\n",
      "File \u001b[1;32m~\\AppData\\Local\\Packages\\PythonSoftwareFoundation.Python.3.10_qbz5n2kfra8p0\\LocalCache\\local-packages\\Python310\\site-packages\\pandas\\core\\apply.py:798\u001b[0m, in \u001b[0;36mFrameApply.apply_standard\u001b[1;34m(self)\u001b[0m\n\u001b[0;32m    797\u001b[0m \u001b[39mdef\u001b[39;00m \u001b[39mapply_standard\u001b[39m(\u001b[39mself\u001b[39m):\n\u001b[1;32m--> 798\u001b[0m     results, res_index \u001b[39m=\u001b[39m \u001b[39mself\u001b[39;49m\u001b[39m.\u001b[39;49mapply_series_generator()\n\u001b[0;32m    800\u001b[0m     \u001b[39m# wrap results\u001b[39;00m\n\u001b[0;32m    801\u001b[0m     \u001b[39mreturn\u001b[39;00m \u001b[39mself\u001b[39m\u001b[39m.\u001b[39mwrap_results(results, res_index)\n",
      "File \u001b[1;32m~\\AppData\\Local\\Packages\\PythonSoftwareFoundation.Python.3.10_qbz5n2kfra8p0\\LocalCache\\local-packages\\Python310\\site-packages\\pandas\\core\\apply.py:814\u001b[0m, in \u001b[0;36mFrameApply.apply_series_generator\u001b[1;34m(self)\u001b[0m\n\u001b[0;32m    811\u001b[0m \u001b[39mwith\u001b[39;00m option_context(\u001b[39m\"\u001b[39m\u001b[39mmode.chained_assignment\u001b[39m\u001b[39m\"\u001b[39m, \u001b[39mNone\u001b[39;00m):\n\u001b[0;32m    812\u001b[0m     \u001b[39mfor\u001b[39;00m i, v \u001b[39min\u001b[39;00m \u001b[39menumerate\u001b[39m(series_gen):\n\u001b[0;32m    813\u001b[0m         \u001b[39m# ignore SettingWithCopy here in case the user mutates\u001b[39;00m\n\u001b[1;32m--> 814\u001b[0m         results[i] \u001b[39m=\u001b[39m \u001b[39mself\u001b[39;49m\u001b[39m.\u001b[39;49mf(v)\n\u001b[0;32m    815\u001b[0m         \u001b[39mif\u001b[39;00m \u001b[39misinstance\u001b[39m(results[i], ABCSeries):\n\u001b[0;32m    816\u001b[0m             \u001b[39m# If we have a view on v, we need to make a copy because\u001b[39;00m\n\u001b[0;32m    817\u001b[0m             \u001b[39m#  series_generator will swap out the underlying data\u001b[39;00m\n\u001b[0;32m    818\u001b[0m             results[i] \u001b[39m=\u001b[39m results[i]\u001b[39m.\u001b[39mcopy(deep\u001b[39m=\u001b[39m\u001b[39mFalse\u001b[39;00m)\n",
      "File \u001b[1;32m~\\AppData\\Local\\Packages\\PythonSoftwareFoundation.Python.3.10_qbz5n2kfra8p0\\LocalCache\\local-packages\\Python310\\site-packages\\pandas\\core\\apply.py:133\u001b[0m, in \u001b[0;36mApply.__init__.<locals>.f\u001b[1;34m(x)\u001b[0m\n\u001b[0;32m    132\u001b[0m \u001b[39mdef\u001b[39;00m \u001b[39mf\u001b[39m(x):\n\u001b[1;32m--> 133\u001b[0m     \u001b[39mreturn\u001b[39;00m func(x, \u001b[39m*\u001b[39margs, \u001b[39m*\u001b[39m\u001b[39m*\u001b[39mkwargs)\n",
      "\u001b[1;32mc:\\Users\\54280\\Documents\\GitHub\\proyectogrupal\\Notebooks\\unir_medatata_yelp.ipynb Celda 6\u001b[0m line \u001b[0;36m9\n\u001b[0;32m      <a href='vscode-notebook-cell:/c%3A/Users/54280/Documents/GitHub/proyectogrupal/Notebooks/unir_medatata_yelp.ipynb#W4sZmlsZQ%3D%3D?line=5'>6</a>\u001b[0m name1 \u001b[39m=\u001b[39m row[\u001b[39m'\u001b[39m\u001b[39mname\u001b[39m\u001b[39m'\u001b[39m]\n\u001b[0;32m      <a href='vscode-notebook-cell:/c%3A/Users/54280/Documents/GitHub/proyectogrupal/Notebooks/unir_medatata_yelp.ipynb#W4sZmlsZQ%3D%3D?line=7'>8</a>\u001b[0m \u001b[39m# Usar process.extractOne para encontrar la mejor coincidencia en df2\u001b[39;00m\n\u001b[1;32m----> <a href='vscode-notebook-cell:/c%3A/Users/54280/Documents/GitHub/proyectogrupal/Notebooks/unir_medatata_yelp.ipynb#W4sZmlsZQ%3D%3D?line=8'>9</a>\u001b[0m best_match \u001b[39m=\u001b[39m process\u001b[39m.\u001b[39;49mextractOne(name1, gmaps[\u001b[39m'\u001b[39;49m\u001b[39mname\u001b[39;49m\u001b[39m'\u001b[39;49m], scorer\u001b[39m=\u001b[39;49mfuzz\u001b[39m.\u001b[39;49mtoken_sort_ratio)\n\u001b[0;32m     <a href='vscode-notebook-cell:/c%3A/Users/54280/Documents/GitHub/proyectogrupal/Notebooks/unir_medatata_yelp.ipynb#W4sZmlsZQ%3D%3D?line=10'>11</a>\u001b[0m \u001b[39m# Devolver el índice de la mejor coincidencia\u001b[39;00m\n\u001b[0;32m     <a href='vscode-notebook-cell:/c%3A/Users/54280/Documents/GitHub/proyectogrupal/Notebooks/unir_medatata_yelp.ipynb#W4sZmlsZQ%3D%3D?line=11'>12</a>\u001b[0m \u001b[39mreturn\u001b[39;00m best_match[\u001b[39m2\u001b[39m]\n",
      "File \u001b[1;32m~\\AppData\\Local\\Packages\\PythonSoftwareFoundation.Python.3.10_qbz5n2kfra8p0\\LocalCache\\local-packages\\Python310\\site-packages\\fuzzywuzzy\\process.py:220\u001b[0m, in \u001b[0;36mextractOne\u001b[1;34m(query, choices, processor, scorer, score_cutoff)\u001b[0m\n\u001b[0;32m    218\u001b[0m best_list \u001b[39m=\u001b[39m extractWithoutOrder(query, choices, processor, scorer, score_cutoff)\n\u001b[0;32m    219\u001b[0m \u001b[39mtry\u001b[39;00m:\n\u001b[1;32m--> 220\u001b[0m     \u001b[39mreturn\u001b[39;00m \u001b[39mmax\u001b[39;49m(best_list, key\u001b[39m=\u001b[39;49m\u001b[39mlambda\u001b[39;49;00m i: i[\u001b[39m1\u001b[39;49m])\n\u001b[0;32m    221\u001b[0m \u001b[39mexcept\u001b[39;00m \u001b[39mValueError\u001b[39;00m:\n\u001b[0;32m    222\u001b[0m     \u001b[39mreturn\u001b[39;00m \u001b[39mNone\u001b[39;00m\n",
      "File \u001b[1;32m~\\AppData\\Local\\Packages\\PythonSoftwareFoundation.Python.3.10_qbz5n2kfra8p0\\LocalCache\\local-packages\\Python310\\site-packages\\fuzzywuzzy\\process.py:110\u001b[0m, in \u001b[0;36mextractWithoutOrder\u001b[1;34m(query, choices, processor, scorer, score_cutoff)\u001b[0m\n\u001b[0;32m    108\u001b[0m \u001b[39mfor\u001b[39;00m key, choice \u001b[39min\u001b[39;00m choices\u001b[39m.\u001b[39mitems():\n\u001b[0;32m    109\u001b[0m     processed \u001b[39m=\u001b[39m pre_processor(processor(choice))\n\u001b[1;32m--> 110\u001b[0m     score \u001b[39m=\u001b[39m scorer(processed_query, processed)\n\u001b[0;32m    111\u001b[0m     \u001b[39mif\u001b[39;00m score \u001b[39m>\u001b[39m\u001b[39m=\u001b[39m score_cutoff:\n\u001b[0;32m    112\u001b[0m         \u001b[39myield\u001b[39;00m (choice, score, key)\n",
      "\u001b[1;31mKeyboardInterrupt\u001b[0m: "
     ]
    }
   ],
   "source": [
    "# Crear una función para encontrar la mejor coincidencia de nombre en gmaps para cada fila en business\n",
    "def find_best_match(row, gmaps):\n",
    "    # Obtener el nombre del negocio en business\n",
    "    name1 = row['name']\n",
    "    \n",
    "    # Usar process.extractOne para encontrar la mejor coincidencia en gmaps\n",
    "    best_match = process.extractOne(name1, gmaps['name'], scorer=fuzz.token_sort_ratio)\n",
    "    \n",
    "    # Devolver el índice de la mejor coincidencia\n",
    "    return best_match[2]\n",
    "\n",
    "# Aplicar la función a cada fila en business\n",
    "business['best_match_index'] = business.apply(find_best_match, args=(gmaps,), axis=1)\n",
    "\n",
    "# Realizar la unión en base al índice encontrado\n",
    "df_merged = business.merge(gmaps, left_index=True, right_on='best_match_index', how='inner')\n"
   ]
  },
  {
   "cell_type": "code",
   "execution_count": 7,
   "metadata": {},
   "outputs": [
    {
     "name": "stdout",
     "output_type": "stream",
     "text": [
      "<class 'pandas.core.frame.DataFrame'>\n",
      "RangeIndex: 0 entries\n",
      "Data columns (total 31 columns):\n",
      " #   Column            Non-Null Count  Dtype  \n",
      "---  ------            --------------  -----  \n",
      " 0   business_id       0 non-null      object \n",
      " 1   name_x            0 non-null      object \n",
      " 2   address_x         0 non-null      object \n",
      " 3   city              0 non-null      object \n",
      " 4   state_x           0 non-null      object \n",
      " 5   postal_code       0 non-null      object \n",
      " 6   latitude_x        0 non-null      float64\n",
      " 7   longitude_x       0 non-null      float64\n",
      " 8   stars             0 non-null      float64\n",
      " 9   review_count      0 non-null      int64  \n",
      " 10  is_open           0 non-null      int64  \n",
      " 11  attributes        0 non-null      object \n",
      " 12  categories        0 non-null      object \n",
      " 13  hours_x           0 non-null      object \n",
      " 14  Unnamed: 0        0 non-null      int64  \n",
      " 15  name_y            0 non-null      object \n",
      " 16  address_y         0 non-null      object \n",
      " 17  gmap_id           0 non-null      object \n",
      " 18  description       0 non-null      object \n",
      " 19  latitude_y        0 non-null      float64\n",
      " 20  longitude_y       0 non-null      float64\n",
      " 21  category          0 non-null      object \n",
      " 22  avg_rating        0 non-null      float64\n",
      " 23  num_of_reviews    0 non-null      int64  \n",
      " 24  price             0 non-null      object \n",
      " 25  hours_y           0 non-null      object \n",
      " 26  MISC              0 non-null      object \n",
      " 27  state_y           0 non-null      object \n",
      " 28  relative_results  0 non-null      object \n",
      " 29  url               0 non-null      object \n",
      " 30  estado_categoria  0 non-null      object \n",
      "dtypes: float64(6), int64(4), object(21)\n",
      "memory usage: 124.0+ bytes\n"
     ]
    }
   ],
   "source": [
    "df_merged.info()"
   ]
  }
 ],
 "metadata": {
  "kernelspec": {
   "display_name": "Python 3",
   "language": "python",
   "name": "python3"
  },
  "language_info": {
   "codemirror_mode": {
    "name": "ipython",
    "version": 3
   },
   "file_extension": ".py",
   "mimetype": "text/x-python",
   "name": "python",
   "nbconvert_exporter": "python",
   "pygments_lexer": "ipython3",
   "version": "3.10.11"
  },
  "orig_nbformat": 4
 },
 "nbformat": 4,
 "nbformat_minor": 2
}
