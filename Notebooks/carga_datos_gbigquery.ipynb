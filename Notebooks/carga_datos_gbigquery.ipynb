{
 "cells": [
  {
   "cell_type": "code",
   "execution_count": null,
   "metadata": {},
   "outputs": [],
   "source": [
    "import json\n",
    "#from google.colab import files # solo para google collab\n",
    "from google.cloud import bigquery\n",
    "import pandas as pd\n",
    "print(bigquery.__version__)"
   ]
  },
  {
   "cell_type": "code",
   "execution_count": null,
   "metadata": {},
   "outputs": [],
   "source": [
    "# google collab\n",
    "#path_api_key = '/content/extreme-unison-399121-cadd77c555ca.json'\n",
    "\n",
    "# entorno local\n",
    "path_api_key = '/Volumes/hd_mvf_datasets/gdrive/henry/extreme-unison-399121-cadd77c555ca.json'\n",
    "\n",
    "# extraigo las credenciales para el acceso\n",
    "service_account_info = json.load(open(path_api_key))\n",
    "\n",
    "# autorizo el acceso a BigQuery\n",
    "client_bigquery = bigquery.Client.from_service_account_info(service_account_info)"
   ]
  },
  {
   "cell_type": "code",
   "execution_count": null,
   "metadata": {},
   "outputs": [],
   "source": [
    "# definir la consulta\n",
    "QUERY = (\n",
    "    'SELECT * FROM `extreme-unison-399121.GMaps.gmaps_metadata`'\n",
    "    )\n",
    "query_job = client_bigquery.query(QUERY)  # API request\n",
    "query_result = query_job.result()\n",
    "query_df = query_result.to_dataframe()\n",
    "query_df.info()"
   ]
  }
 ],
 "metadata": {
  "language_info": {
   "name": "python"
  }
 },
 "nbformat": 4,
 "nbformat_minor": 2
}
