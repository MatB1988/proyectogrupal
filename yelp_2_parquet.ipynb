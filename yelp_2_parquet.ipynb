{
 "cells": [
  {
   "cell_type": "code",
   "execution_count": 2,
   "metadata": {},
   "outputs": [],
   "source": [
    "import pandas as pd\n",
    "import pickle\n",
    "import json\n",
    "import os\n",
    "import pyarrow as pa\n",
    "import fastparquet as fp"
   ]
  },
  {
   "cell_type": "markdown",
   "metadata": {},
   "source": [
    "business.pkl to parquet"
   ]
  },
  {
   "cell_type": "code",
   "execution_count": 3,
   "metadata": {},
   "outputs": [],
   "source": [
    "# Ruta a la carpeta Yelp\n",
    "yelp_folder = 'Yelp'\n",
    "\n",
    "file_to_df = 'business.pkl'\n",
    "# Leer el archivo business.pkl\n",
    "business_df = pd.read_pickle(os.path.join(yelp_folder, file_to_df))"
   ]
  },
  {
   "cell_type": "code",
   "execution_count": 6,
   "metadata": {},
   "outputs": [
    {
     "name": "stdout",
     "output_type": "stream",
     "text": [
      "<class 'pandas.core.frame.DataFrame'>\n",
      "Index: 150346 entries, 0 to 150345\n",
      "Data columns (total 28 columns):\n",
      " #   Column        Non-Null Count   Dtype \n",
      "---  ------        --------------   ----- \n",
      " 0   business_id   150346 non-null  object\n",
      " 1   name          150346 non-null  object\n",
      " 2   address       150346 non-null  object\n",
      " 3   city          150346 non-null  object\n",
      " 4   state         150343 non-null  object\n",
      " 5   postal_code   150346 non-null  object\n",
      " 6   latitude      150346 non-null  object\n",
      " 7   longitude     150346 non-null  object\n",
      " 8   stars         150346 non-null  object\n",
      " 9   review_count  150346 non-null  object\n",
      " 10  is_open       150346 non-null  object\n",
      " 11  attributes    136602 non-null  object\n",
      " 12  categories    150243 non-null  object\n",
      " 13  hours         127123 non-null  object\n",
      " 14  business_id   5 non-null       object\n",
      " 15  name          5 non-null       object\n",
      " 16  address       5 non-null       object\n",
      " 17  city          5 non-null       object\n",
      " 18  state         5 non-null       object\n",
      " 19  postal_code   5 non-null       object\n",
      " 20  latitude      5 non-null       object\n",
      " 21  longitude     5 non-null       object\n",
      " 22  stars         5 non-null       object\n",
      " 23  review_count  5 non-null       object\n",
      " 24  is_open       5 non-null       object\n",
      " 25  attributes    5 non-null       object\n",
      " 26  categories    5 non-null       object\n",
      " 27  hours         5 non-null       object\n",
      "dtypes: object(28)\n",
      "memory usage: 33.3+ MB\n"
     ]
    }
   ],
   "source": [
    "business_df.info()"
   ]
  },
  {
   "cell_type": "code",
   "execution_count": 7,
   "metadata": {},
   "outputs": [],
   "source": [
    "# Crear un nuevo DataFrame con las primeras 14 columnas\n",
    "df_business = business_df.iloc[:, :14]"
   ]
  },
  {
   "cell_type": "code",
   "execution_count": 8,
   "metadata": {},
   "outputs": [
    {
     "name": "stdout",
     "output_type": "stream",
     "text": [
      "<class 'pandas.core.frame.DataFrame'>\n",
      "Index: 150243 entries, 0 to 150345\n",
      "Data columns (total 14 columns):\n",
      " #   Column        Non-Null Count   Dtype \n",
      "---  ------        --------------   ----- \n",
      " 0   business_id   150243 non-null  object\n",
      " 1   name          150243 non-null  object\n",
      " 2   address       150243 non-null  object\n",
      " 3   city          150243 non-null  object\n",
      " 4   state         150240 non-null  object\n",
      " 5   postal_code   150243 non-null  object\n",
      " 6   latitude      150243 non-null  object\n",
      " 7   longitude     150243 non-null  object\n",
      " 8   stars         150243 non-null  object\n",
      " 9   review_count  150243 non-null  object\n",
      " 10  is_open       150243 non-null  object\n",
      " 11  attributes    136601 non-null  object\n",
      " 12  categories    150243 non-null  object\n",
      " 13  hours         127123 non-null  object\n",
      "dtypes: object(14)\n",
      "memory usage: 17.2+ MB\n"
     ]
    }
   ],
   "source": [
    "# Filtrar las filas sin valores NA / NaN en la columna 'categories'\n",
    "df_categories = df_business.dropna(subset=['categories'])\n",
    "\n",
    "# Verificar la información del nuevo DataFrame\n",
    "df_categories.info()"
   ]
  },
  {
   "cell_type": "code",
   "execution_count": 9,
   "metadata": {},
   "outputs": [],
   "source": [
    "# lista de palabras clave relacionadas con comida\n",
    "palabras_clave = [\"Restaurant\", \"restaurant\", \"Food\", \"food\", \"Cafe\", \"cafe\", \"Diner\", \"diner\", \"Bakery\", \"bakery\", \"Lunch\", \"lunch\", \"Brunch\", 'brunch']\n",
    "\n",
    "# Filtrar los registros que contienen al menos una de las palabras clave en la columna 'category'\n",
    "df_resto = df_categories[df_categories['categories'].str.contains('|'.join(palabras_clave))]"
   ]
  },
  {
   "cell_type": "code",
   "execution_count": 10,
   "metadata": {},
   "outputs": [
    {
     "name": "stdout",
     "output_type": "stream",
     "text": [
      "DataFrame guardado como parquet\\business.parquet\n"
     ]
    }
   ],
   "source": [
    "# Verificar si el directorio 'parquet' existe, y si no, crearlo\n",
    "if not os.path.exists('parquet'):\n",
    "    os.makedirs('parquet')\n",
    "\n",
    "# Obtener el nombre del archivo original sin la extensión\n",
    "df_2_file_name = 'business.pkl'.split('.')[0]\n",
    "\n",
    "# Guardar el DataFrame en formato Parquet en el directorio 'parquet' con el nombre del archivo original\n",
    "file_path = os.path.join('parquet', f'{df_2_file_name}.parquet')\n",
    "\n",
    "# A continuación, se guarda el DataFrame en formato Parquet usando fastparquet\n",
    "df_resto.to_parquet(file_path, engine='fastparquet')\n",
    "\n",
    "print(f\"DataFrame guardado como {file_path}\")"
   ]
  },
  {
   "cell_type": "code",
   "execution_count": 11,
   "metadata": {},
   "outputs": [
    {
     "name": "stdout",
     "output_type": "stream",
     "text": [
      "29889     ---kPU91CF4Lq2-WlRu9Lw\n",
      "118535    --0iUa4sNDFiZFrAdIWhZQ\n",
      "45464     --7PUidqRWpRSpXebiyxTg\n",
      "59459     --8IbOsAAxjKRoYsBFL-PA\n",
      "75117     --MbOh2O1pATkXa7xbU6LA\n",
      "38991     --SJXpAa0E-GCp2smaHf0A\n",
      "9257      --ZVrH2X2QXBFdCilbirsw\n",
      "101542    --a_r_w1HTsOY-fagPeNKg\n",
      "141306    --epgcb7xHGuJ-4PUeSLAw\n",
      "8466      --hF_3v1JmU9nlu4zfXJ8Q\n",
      "Name: business_id, dtype: object\n"
     ]
    }
   ],
   "source": [
    "df_sorted = df_resto.sort_values(by='business_id')\n",
    "primeros_10_business_id_ordenados = df_sorted['business_id'].head(10)\n",
    "print(primeros_10_business_id_ordenados)"
   ]
  },
  {
   "cell_type": "code",
   "execution_count": 12,
   "metadata": {},
   "outputs": [
    {
     "name": "stdout",
     "output_type": "stream",
     "text": [
      "<class 'pandas.core.frame.DataFrame'>\n",
      "Index: 64629 entries, 3 to 150340\n",
      "Data columns (total 14 columns):\n",
      " #   Column        Non-Null Count  Dtype \n",
      "---  ------        --------------  ----- \n",
      " 0   business_id   64629 non-null  object\n",
      " 1   name          64629 non-null  object\n",
      " 2   address       64629 non-null  object\n",
      " 3   city          64629 non-null  object\n",
      " 4   state         64629 non-null  object\n",
      " 5   postal_code   64629 non-null  object\n",
      " 6   latitude      64629 non-null  object\n",
      " 7   longitude     64629 non-null  object\n",
      " 8   stars         64629 non-null  object\n",
      " 9   review_count  64629 non-null  object\n",
      " 10  is_open       64629 non-null  object\n",
      " 11  attributes    63752 non-null  object\n",
      " 12  categories    64629 non-null  object\n",
      " 13  hours         55293 non-null  object\n",
      "dtypes: object(14)\n",
      "memory usage: 7.4+ MB\n"
     ]
    }
   ],
   "source": [
    "df_resto.info()"
   ]
  },
  {
   "cell_type": "code",
   "execution_count": 13,
   "metadata": {},
   "outputs": [
    {
     "name": "stdout",
     "output_type": "stream",
     "text": [
      "Cantidad de valores únicos en df_resto['business_id']: 64629\n"
     ]
    }
   ],
   "source": [
    "# Calcular la cantidad de valores únicos en la columna 'business_id'\n",
    "unique_business_ids = df_resto['business_id'].nunique()\n",
    "\n",
    "# Imprimir la cantidad de valores únicos\n",
    "print(f\"Cantidad de valores únicos en df_resto['business_id']: {unique_business_ids}\")"
   ]
  },
  {
   "cell_type": "markdown",
   "metadata": {},
   "source": [
    "checkin.json to parquet"
   ]
  },
  {
   "cell_type": "code",
   "execution_count": 28,
   "metadata": {},
   "outputs": [],
   "source": [
    "# Ruta al archivo checkin.json dentro de la carpeta Yelp\n",
    "checkin_path = os.path.join('Yelp', 'checkin.json')\n",
    "\n",
    "# Lista para almacenar los DataFrames\n",
    "checkin_dfs = []\n",
    "\n",
    "# Leer el archivo línea por línea y convertir cada línea en un DataFrame\n",
    "with open(checkin_path, 'r') as checkin_file:\n",
    "    for line in checkin_file:\n",
    "        data = eval(line)  # Convertir la línea en un diccionario\n",
    "        df = pd.DataFrame([data])  # Crear un DataFrame a partir del diccionario\n",
    "        checkin_dfs.append(df)\n",
    "\n",
    "# Concatenar los DataFrames en uno solo\n",
    "checkin_df = pd.concat(checkin_dfs, ignore_index=True)"
   ]
  },
  {
   "cell_type": "code",
   "execution_count": 29,
   "metadata": {},
   "outputs": [
    {
     "name": "stdout",
     "output_type": "stream",
     "text": [
      "<class 'pandas.core.frame.DataFrame'>\n",
      "RangeIndex: 131930 entries, 0 to 131929\n",
      "Data columns (total 2 columns):\n",
      " #   Column       Non-Null Count   Dtype \n",
      "---  ------       --------------   ----- \n",
      " 0   business_id  131930 non-null  object\n",
      " 1   date         131930 non-null  object\n",
      "dtypes: object(2)\n",
      "memory usage: 2.0+ MB\n"
     ]
    }
   ],
   "source": [
    "checkin_df.info()"
   ]
  },
  {
   "cell_type": "code",
   "execution_count": 31,
   "metadata": {},
   "outputs": [
    {
     "name": "stdout",
     "output_type": "stream",
     "text": [
      "Columna: business_id\n",
      "0    ---kPU91CF4Lq2-WlRu9Lw\n",
      "1    --0iUa4sNDFiZFrAdIWhZQ\n",
      "2    --30_8IhuyMHbSOcNWd6DQ\n",
      "3    --7PUidqRWpRSpXebiyxTg\n",
      "4    --7jw19RH9JKXgFohspgQw\n",
      "5    --8IbOsAAxjKRoYsBFL-PA\n",
      "6    --9osgUCSDUWUkoTLdvYhQ\n",
      "7    --ARBQr1WMsTWiwOKOj-FQ\n",
      "8    --FWWsIwxRwuw9vIMImcQg\n",
      "9    --FcbSxK1AoEtEAxOgBaCw\n",
      "Name: business_id, dtype: object\n",
      "\n",
      "\n",
      "Columna: date\n",
      "0    2020-03-13 21:10:56, 2020-06-02 22:18:06, 2020...\n",
      "1    2010-09-13 21:43:09, 2011-05-04 23:08:15, 2011...\n",
      "2             2013-06-14 23:29:17, 2014-08-13 23:20:22\n",
      "3    2011-02-15 17:12:00, 2011-07-28 02:46:10, 2012...\n",
      "4    2014-04-21 20:42:11, 2014-04-28 21:04:46, 2014...\n",
      "5    2015-06-06 01:03:19, 2015-07-29 16:50:58, 2015...\n",
      "6    2015-06-13 02:00:57, 2015-07-04 00:44:09, 2015...\n",
      "7    2014-12-12 00:44:23, 2015-01-09 00:19:52, 2015...\n",
      "8    2010-09-11 16:28:39, 2010-12-22 21:14:19, 2011...\n",
      "9    2017-08-18 19:43:50, 2017-10-07 22:38:38, 2017...\n",
      "Name: date, dtype: object\n",
      "\n",
      "\n"
     ]
    }
   ],
   "source": [
    "for column in checkin_df.columns:\n",
    "    print(f\"Columna: {column}\")\n",
    "    print(checkin_df[column].head(10))\n",
    "    print(\"\\n\")"
   ]
  },
  {
   "cell_type": "code",
   "execution_count": 32,
   "metadata": {},
   "outputs": [
    {
     "name": "stdout",
     "output_type": "stream",
     "text": [
      "Cantidad de valores únicos en 'business_id': 131930\n"
     ]
    }
   ],
   "source": [
    "# Calcular la cantidad de valores únicos en la columna 'business_id'\n",
    "unique_business_ids = checkin_df['business_id'].nunique()\n",
    "\n",
    "# Imprimir la cantidad de valores únicos\n",
    "print(f\"Cantidad de valores únicos en checkin_df['business_id']: {unique_business_ids}\")"
   ]
  },
  {
   "cell_type": "code",
   "execution_count": 49,
   "metadata": {},
   "outputs": [
    {
     "name": "stdout",
     "output_type": "stream",
     "text": [
      "DataFrame guardado como parquet\\checkin.parquet\n"
     ]
    }
   ],
   "source": [
    "# Verificar si el directorio 'parquet' existe, y si no, crearlo\n",
    "if not os.path.exists('parquet'):\n",
    "    os.makedirs('parquet')\n",
    "\n",
    "# Obtener el nombre del archivo original sin la extensión\n",
    "df_2_file_name = 'checkin.json'.split('.')[0]\n",
    "\n",
    "# Guardar el DataFrame en formato Parquet en el directorio 'parquet' con el nombre del archivo original\n",
    "file_path = os.path.join('parquet', f'{df_2_file_name}.parquet')\n",
    "\n",
    "# A continuación, se guarda el DataFrame en formato Parquet usando fastparquet\n",
    "checkin_df.to_parquet(file_path, engine='fastparquet')\n",
    "\n",
    "print(f\"DataFrame guardado como {file_path}\")"
   ]
  },
  {
   "cell_type": "markdown",
   "metadata": {},
   "source": [
    "tip.json to parquet"
   ]
  },
  {
   "cell_type": "code",
   "execution_count": 22,
   "metadata": {},
   "outputs": [],
   "source": [
    "# Ruta al archivo tip.json dentro de la carpeta Yelp\n",
    "tip_path = os.path.join('Yelp', 'tip.json')\n",
    "\n",
    "# Lista para almacenar los DataFrames\n",
    "tip_df = []\n",
    "\n",
    "# Leer el archivo línea por línea y convertir cada línea en un DataFrame\n",
    "with open(tip_path, 'r', encoding='utf-8') as tip_file:\n",
    "    for line in tip_file:\n",
    "        data = json.loads(line)  # Convertir la línea en un diccionario\n",
    "        df = pd.DataFrame([data])  # Crear un DataFrame a partir del diccionario\n",
    "        tip_dfs.append(df)\n",
    "\n",
    "# Concatenar los DataFrames en uno solo\n",
    "tip_df = pd.concat(tip_df, ignore_index=True)\n",
    "\n",
    "\n"
   ]
  },
  {
   "cell_type": "code",
   "execution_count": 23,
   "metadata": {},
   "outputs": [
    {
     "name": "stdout",
     "output_type": "stream",
     "text": [
      "<class 'pandas.core.frame.DataFrame'>\n",
      "RangeIndex: 908915 entries, 0 to 908914\n",
      "Data columns (total 5 columns):\n",
      " #   Column            Non-Null Count   Dtype \n",
      "---  ------            --------------   ----- \n",
      " 0   user_id           908915 non-null  object\n",
      " 1   business_id       908915 non-null  object\n",
      " 2   text              908915 non-null  object\n",
      " 3   date              908915 non-null  object\n",
      " 4   compliment_count  908915 non-null  int64 \n",
      "dtypes: int64(1), object(4)\n",
      "memory usage: 34.7+ MB\n"
     ]
    }
   ],
   "source": [
    "tip_df.info()"
   ]
  },
  {
   "cell_type": "code",
   "execution_count": 14,
   "metadata": {},
   "outputs": [
    {
     "name": "stdout",
     "output_type": "stream",
     "text": [
      "Columna: user_id\n",
      "0    AGNUgVwnZUey3gcPCJ76iw\n",
      "1    NBN4MgHP9D3cw--SnauTkA\n",
      "2    -copOvldyKh1qr-vzkDEvw\n",
      "3    FjMQVZjSqY8syIO-53KFKw\n",
      "4    ld0AperBXk1h6UbqmM80zw\n",
      "5    trf3Qcz8qvCDKXiTgjUcEg\n",
      "6    SMGAlRjyfuYu-c-22zIyOg\n",
      "7    YVBB9g23nuVJ0u44zK0pSA\n",
      "8    VL12EhEdT4OWqGq0nIqkzw\n",
      "9    4ay-fdVks5WMerYL_htkGQ\n",
      "Name: user_id, dtype: object\n",
      "\n",
      "\n",
      "Columna: business_id\n",
      "0    3uLgwr0qeCNMjKenHJwPGQ\n",
      "1    QoezRbYQncpRqyrLH6Iqjg\n",
      "2    MYoRNLb5chwjQe3c_k37Gg\n",
      "3    hV-bABTK-glh5wj31ps_Jw\n",
      "4    _uN0OudeJ3Zl_tf6nxg5ww\n",
      "5    7Rm9Ba50bw23KTA8RedZYg\n",
      "6    kH-0iXqkL7b8UXNpguBMKg\n",
      "7    jtri188kuhe_AuEOJ51U_A\n",
      "8    xODBZmX4EmlVvbqtKN7YKg\n",
      "9    pICJRcyqW1cF96Q3XhLSbw\n",
      "Name: business_id, dtype: object\n",
      "\n",
      "\n",
      "Columna: text\n",
      "0                       Avengers time with the ladies.\n",
      "1    They have lots of good deserts and tasty cuban...\n",
      "2               It's open even when you think it isn't\n",
      "3                            Very decent fried chicken\n",
      "4               Appetizers.. platter special for lunch\n",
      "5    Chili Cup + Single Cheeseburger with onion, pi...\n",
      "6    Saturday, Dec 7th 2013, ride Patco's Silver Sl...\n",
      "7    This is probably the best place in the cool Sp...\n",
      "8                                                Tacos\n",
      "9    Starbucks substitute in boring downtown Tampa....\n",
      "Name: text, dtype: object\n",
      "\n",
      "\n",
      "Columna: date\n",
      "0    2012-05-18 02:17:21\n",
      "1    2013-02-05 18:35:10\n",
      "2    2013-08-18 00:56:08\n",
      "3    2017-06-27 23:05:38\n",
      "4    2012-10-06 19:43:09\n",
      "5    2012-03-13 04:00:52\n",
      "6    2013-12-03 23:42:15\n",
      "7    2016-11-22 22:14:58\n",
      "8    2012-07-27 01:48:24\n",
      "9    2012-06-09 22:57:04\n",
      "Name: date, dtype: object\n",
      "\n",
      "\n",
      "Columna: compliment_count\n",
      "0    0\n",
      "1    0\n",
      "2    0\n",
      "3    0\n",
      "4    0\n",
      "5    0\n",
      "6    0\n",
      "7    0\n",
      "8    0\n",
      "9    0\n",
      "Name: compliment_count, dtype: int64\n",
      "\n",
      "\n"
     ]
    }
   ],
   "source": [
    "for column in tip_df.columns:\n",
    "    print(f\"Columna: {column}\")\n",
    "    print(tip_df[column].head(10))\n",
    "    print(\"\\n\")"
   ]
  },
  {
   "cell_type": "code",
   "execution_count": 24,
   "metadata": {},
   "outputs": [
    {
     "name": "stdout",
     "output_type": "stream",
     "text": [
      "697114    ---kPU91CF4Lq2-WlRu9Lw\n",
      "902156    ---kPU91CF4Lq2-WlRu9Lw\n",
      "828156    ---kPU91CF4Lq2-WlRu9Lw\n",
      "828684    ---kPU91CF4Lq2-WlRu9Lw\n",
      "347542    --0iUa4sNDFiZFrAdIWhZQ\n",
      "1106      --0iUa4sNDFiZFrAdIWhZQ\n",
      "59773     --0iUa4sNDFiZFrAdIWhZQ\n",
      "306601    --0iUa4sNDFiZFrAdIWhZQ\n",
      "237672    --0iUa4sNDFiZFrAdIWhZQ\n",
      "53982     --0iUa4sNDFiZFrAdIWhZQ\n",
      "Name: business_id, dtype: object\n"
     ]
    }
   ],
   "source": [
    "df_sorted = tip_df.sort_values(by='business_id')\n",
    "primeros_10_business_id_ordenados = df_sorted['business_id'].head(10)\n",
    "print(primeros_10_business_id_ordenados)"
   ]
  },
  {
   "cell_type": "code",
   "execution_count": 33,
   "metadata": {},
   "outputs": [
    {
     "name": "stdout",
     "output_type": "stream",
     "text": [
      "Cantidad de valores únicos en 'business_id': 106193\n"
     ]
    }
   ],
   "source": [
    "# Calcular la cantidad de valores únicos en la columna 'business_id'\n",
    "unique_business_ids = tip_df['business_id'].nunique()\n",
    "\n",
    "# Imprimir la cantidad de valores únicos\n",
    "print(f\"Cantidad de valores únicos en 'business_id': {unique_business_ids}\")"
   ]
  },
  {
   "cell_type": "code",
   "execution_count": 50,
   "metadata": {},
   "outputs": [
    {
     "name": "stdout",
     "output_type": "stream",
     "text": [
      "DataFrame guardado como parquet\\tip.parquet\n"
     ]
    }
   ],
   "source": [
    "# Verificar si el directorio 'parquet' existe, y si no, crearlo\n",
    "if not os.path.exists('parquet'):\n",
    "    os.makedirs('parquet')\n",
    "\n",
    "# Obtener el nombre del archivo original sin la extensión\n",
    "df_2_file_name = 'tip.json'.split('.')[0]\n",
    "\n",
    "# Guardar el DataFrame en formato Parquet en el directorio 'parquet' con el nombre del archivo original\n",
    "file_path = os.path.join('parquet', f'{df_2_file_name}.parquet')\n",
    "\n",
    "# A continuación, se guarda el DataFrame en formato Parquet usando fastparquet\n",
    "tip_df.to_parquet(file_path, engine='fastparquet')\n",
    "\n",
    "print(f\"DataFrame guardado como {file_path}\")"
   ]
  },
  {
   "cell_type": "markdown",
   "metadata": {},
   "source": [
    "df_yelp conecatenado"
   ]
  },
  {
   "cell_type": "code",
   "execution_count": 44,
   "metadata": {},
   "outputs": [],
   "source": [
    "# Crear un conjunto de valores únicos de 'business_id' en df_resto\n",
    "unique_business_ids = set(df_resto['business_id'])\n",
    "\n",
    "# Filtrar los registros en checkin_df y tip_df donde 'business_id' coincida con unique_business_ids\n",
    "filtered_checkin_df = checkin_df[checkin_df['business_id'].isin(unique_business_ids)]\n",
    "filtered_tip_df = tip_df[tip_df['business_id'].isin(unique_business_ids)]\n",
    "\n",
    "# Concatenar df_resto con los DataFrames filtrados\n",
    "df_yelp = pd.concat([df_resto, filtered_checkin_df, filtered_tip_df], ignore_index=True)\n",
    "\n",
    "# Ahora df_yelp contendrá los registros de df_resto y los registros de checkin_df y tip_df donde 'business_id' esté en df_resto\n",
    "\n"
   ]
  },
  {
   "cell_type": "code",
   "execution_count": 45,
   "metadata": {},
   "outputs": [
    {
     "name": "stdout",
     "output_type": "stream",
     "text": [
      "Cantidad de valores únicos en df_yelp['business_id']: 64629\n"
     ]
    }
   ],
   "source": [
    "# Calcular la cantidad de valores únicos en la columna 'business_id'\n",
    "unique_business_ids = df_yelp['business_id'].nunique()\n",
    "\n",
    "# Imprimir la cantidad de valores únicos\n",
    "print(f\"Cantidad de valores únicos en df_yelp['business_id']: {unique_business_ids}\")"
   ]
  },
  {
   "cell_type": "code",
   "execution_count": 47,
   "metadata": {},
   "outputs": [
    {
     "name": "stdout",
     "output_type": "stream",
     "text": [
      "DataFrame guardado como parquet\\yelp.parquet\n"
     ]
    }
   ],
   "source": [
    "# Verificar si el directorio 'parquet' existe, y si no, crearlo\n",
    "if not os.path.exists('parquet'):\n",
    "    os.makedirs('parquet')\n",
    "\n",
    "# Obtener el nombre del archivo sin la extensión\n",
    "df_2_file_name = 'yelp'\n",
    "\n",
    "# Guardar el DataFrame en formato Parquet en el directorio 'parquet' con el nombre del archivo original\n",
    "file_path = os.path.join('parquet', f'{df_2_file_name}.parquet')\n",
    "\n",
    "# A continuación, se guarda el DataFrame en formato Parquet usando fastparquet\n",
    "df_yelp.to_parquet(file_path, engine='fastparquet')\n",
    "\n",
    "print(f\"DataFrame guardado como {file_path}\")"
   ]
  },
  {
   "cell_type": "code",
   "execution_count": 1,
   "metadata": {},
   "outputs": [
    {
     "ename": "NameError",
     "evalue": "name 'df_yelp' is not defined",
     "output_type": "error",
     "traceback": [
      "\u001b[1;31m---------------------------------------------------------------------------\u001b[0m",
      "\u001b[1;31mNameError\u001b[0m                                 Traceback (most recent call last)",
      "\u001b[1;32mc:\\Users\\dlfja\\Desktop\\pg\\py_ch\\yelp_2_parquet.ipynb Cell 29\u001b[0m line \u001b[0;36m1\n\u001b[1;32m----> <a href='vscode-notebook-cell:/c%3A/Users/dlfja/Desktop/pg/py_ch/yelp_2_parquet.ipynb#X40sZmlsZQ%3D%3D?line=0'>1</a>\u001b[0m df_yelp\u001b[39m.\u001b[39minfo()\n",
      "\u001b[1;31mNameError\u001b[0m: name 'df_yelp' is not defined"
     ]
    }
   ],
   "source": [
    "df_yelp.info()"
   ]
  }
 ],
 "metadata": {
  "kernelspec": {
   "display_name": "venvYelp",
   "language": "python",
   "name": "python3"
  },
  "language_info": {
   "codemirror_mode": {
    "name": "ipython",
    "version": 3
   },
   "file_extension": ".py",
   "mimetype": "text/x-python",
   "name": "python",
   "nbconvert_exporter": "python",
   "pygments_lexer": "ipython3",
   "version": "3.11.3"
  },
  "orig_nbformat": 4
 },
 "nbformat": 4,
 "nbformat_minor": 2
}
