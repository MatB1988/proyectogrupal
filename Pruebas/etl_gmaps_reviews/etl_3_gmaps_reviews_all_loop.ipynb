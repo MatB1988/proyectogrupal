{
 "cells": [
  {
   "cell_type": "code",
   "execution_count": 1,
   "metadata": {},
   "outputs": [],
   "source": [
    "import os\n",
    "import glob\n",
    "import json\n",
    "import pandas as pd"
   ]
  },
  {
   "cell_type": "code",
   "execution_count": 2,
   "metadata": {},
   "outputs": [],
   "source": [
    "# modificar segun entorno local\n",
    "os.chdir( \"/Volumes/hd_mvf_datasets/henry_data\")\n",
    "\n",
    "# no modificar\n",
    "folder_data = \"1_external\"\n",
    "folder_pipeline = \"2_pipeline\"\n",
    "folder_output = \"3_output\"\n",
    "folder_gmaps = \"gmaps\""
   ]
  },
  {
   "cell_type": "code",
   "execution_count": 3,
   "metadata": {},
   "outputs": [
    {
     "name": "stdout",
     "output_type": "stream",
     "text": [
      "<class 'pandas.core.frame.DataFrame'>\n",
      "RangeIndex: 493297 entries, 0 to 493296\n",
      "Data columns (total 17 columns):\n",
      " #   Column           Non-Null Count   Dtype  \n",
      "---  ------           --------------   -----  \n",
      " 0   state            493297 non-null  object \n",
      " 1   gmap_id          493297 non-null  object \n",
      " 2   user_id          493297 non-null  object \n",
      " 3   user_name        493297 non-null  object \n",
      " 4   user_time        493297 non-null  int64  \n",
      " 5   rating           493297 non-null  int64  \n",
      " 6   user_text        290723 non-null  object \n",
      " 7   resp_time        75084 non-null   float64\n",
      " 8   resp_text        75084 non-null   object \n",
      " 9   user_time_year   493297 non-null  int32  \n",
      " 10  user_time_month  493297 non-null  int32  \n",
      " 11  user_time_day    493297 non-null  int32  \n",
      " 12  user_time_hms    493297 non-null  object \n",
      " 13  resp_time_year   75084 non-null   float64\n",
      " 14  resp_time_month  75084 non-null   float64\n",
      " 15  resp_time_day    75084 non-null   float64\n",
      " 16  resp_time_hms    75084 non-null   object \n",
      "dtypes: float64(4), int32(3), int64(2), object(8)\n",
      "memory usage: 58.3+ MB\n"
     ]
    }
   ],
   "source": [
    "# obtenemos una lista de los archivos en pipeline\n",
    "list_files_gmaps_state_norm = glob.glob(\n",
    "    os.path.join(folder_pipeline,folder_gmaps,\"review-*_norm.parquet\"))\n",
    "list_files_gmaps_state_norm.sort()\n",
    "\n",
    "# aplicamos read_parquet a todos los archivos de la lista\n",
    "# generamos una lista de archivos parquet\n",
    "list_dfs_gmaps_state_norm = [\n",
    "    pd.read_parquet(f) for f in list_files_gmaps_state_norm\n",
    "    ]\n",
    "\n",
    "# unimos los df de la lista de archivos parquet\n",
    "data_gmaps_reviews_norm = pd.concat(\n",
    "    list_dfs_gmaps_state_norm, ignore_index=True)\n",
    "\n",
    "# guardamos el archivo grande en output\n",
    "data_gmaps_reviews_norm.to_parquet(\n",
    "    os.path.join(folder_output, \"data_gmaps_reviews_norm.parquet\")\n",
    "    )\n",
    "data_gmaps_reviews_norm.info()"
   ]
  }
 ],
 "metadata": {
  "kernelspec": {
   "display_name": "pandas_scikit",
   "language": "python",
   "name": "python3"
  },
  "language_info": {
   "codemirror_mode": {
    "name": "ipython",
    "version": 3
   },
   "file_extension": ".py",
   "mimetype": "text/x-python",
   "name": "python",
   "nbconvert_exporter": "python",
   "pygments_lexer": "ipython3",
   "version": "3.10.13"
  },
  "orig_nbformat": 4
 },
 "nbformat": 4,
 "nbformat_minor": 2
}
