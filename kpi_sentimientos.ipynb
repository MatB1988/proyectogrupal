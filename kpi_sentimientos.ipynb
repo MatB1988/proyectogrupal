{
 "cells": [
  {
   "cell_type": "code",
   "execution_count": 2,
   "metadata": {},
   "outputs": [],
   "source": [
    "import pandas as pd\n",
    "from textblob import TextBlob\n",
    "import seaborn as sns\n",
    "\n"
   ]
  },
  {
   "cell_type": "code",
   "execution_count": null,
   "metadata": {},
   "outputs": [],
   "source": [
    "df_reseñas = pd.read........."
   ]
  },
  {
   "cell_type": "code",
   "execution_count": null,
   "metadata": {},
   "outputs": [],
   "source": [
    "# Primero traduzco al español los comentarios en ingles de la columna 'text'\n",
    "df_reseñas['reseñasesp'] = df_reseñas['text'].apply(lambda x: TextBlob(x).translate(to='es'))"
   ]
  },
  {
   "cell_type": "code",
   "execution_count": null,
   "metadata": {},
   "outputs": [],
   "source": [
    "#Para comenzar a analizar a partir del texto traducido el sentimiento, primero creo una columna con la polaridad:\n",
    "\n",
    "df_reseñas['polaridad'] = df_reseñas['reseñasesp'].applay(lambda x: TextBlob(x).sentiment.polarity)\n",
    "\n",
    "# Devuelve un valor numerico que representa los puntajes de polaridad para cada palabra en el comentario de la columna 'reseñases'1°PP_14-9.txt"
   ]
  },
  {
   "cell_type": "code",
   "execution_count": null,
   "metadata": {},
   "outputs": [],
   "source": [
    "print('Valor Maximo de polaridad ', df_reseñas['polaridad'].max())\n",
    "print('Valor Minimo de polaridad ', df_reseñas['polaridad'].min())\n",
    "print('Valor Medio de polaridad ', df_reseñas['polaridad'].mean())\n",
    "\n",
    "#Aqui podremos saber lo valores extremos y el medio. Lo mismo se puede hacer para la Sencibilidad."
   ]
  },
  {
   "cell_type": "code",
   "execution_count": null,
   "metadata": {},
   "outputs": [],
   "source": [
    "# Pero resulta mejor verlo en un grafico:\n",
    "sns.displot(df_reseñas['polaridad'])"
   ]
  },
  {
   "cell_type": "code",
   "execution_count": null,
   "metadata": {},
   "outputs": [],
   "source": [
    "# Como en el caso anterior, pero para estimar la subjetividad:\n",
    "\n",
    "df_reseñas['subjetividad'] = df_reseñas['reseñasesp'].applay(lambda x: TextBlob(x).sentiment.subjectivity)\n",
    "\n",
    "# Devuelve un valor numerico en la columna 'subjetividad' que representa la subjetividad del comentario de la \n",
    "# columna 'reseñases'"
   ]
  },
  {
   "cell_type": "code",
   "execution_count": null,
   "metadata": {},
   "outputs": [],
   "source": [
    "print('Valor Maximo de subjetividad ', df_reseñas['subjetividad'].max())\n",
    "print('Valor Minimo de subjetividad ', df_reseñas['subjetividad'].min())\n",
    "print('Valor Medio de subjetividad ', df_reseñas['subjetividad'].mean())"
   ]
  },
  {
   "cell_type": "code",
   "execution_count": null,
   "metadata": {},
   "outputs": [],
   "source": [
    "sns.displot(df_reseñas['subjetividad'])"
   ]
  }
 ],
 "metadata": {
  "kernelspec": {
   "display_name": "Python 3",
   "language": "python",
   "name": "python3"
  },
  "language_info": {
   "codemirror_mode": {
    "name": "ipython",
    "version": 3
   },
   "file_extension": ".py",
   "mimetype": "text/x-python",
   "name": "python",
   "nbconvert_exporter": "python",
   "pygments_lexer": "ipython3",
   "version": "3.11.2"
  },
  "orig_nbformat": 4
 },
 "nbformat": 4,
 "nbformat_minor": 2
}
