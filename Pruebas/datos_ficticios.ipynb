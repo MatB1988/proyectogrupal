{
 "cells": [
  {
   "cell_type": "code",
   "execution_count": 1,
   "metadata": {},
   "outputs": [],
   "source": [
    "import os\n",
    "import uuid\n",
    "import numpy as np\n",
    "import pandas as pd\n",
    "import geopandas as geopd"
   ]
  },
  {
   "cell_type": "code",
   "execution_count": 2,
   "metadata": {},
   "outputs": [],
   "source": [
    "# modificar segun entorno local\n",
    "os.chdir( \"/Volumes/hd_mvf_datasets/henry_data\")\n",
    "\n",
    "# no modificar\n",
    "folder_data = \"1_external\"\n",
    "folder_pipeline = \"2_pipeline\"\n",
    "folder_output = \"3_output\""
   ]
  },
  {
   "cell_type": "code",
   "execution_count": 3,
   "metadata": {},
   "outputs": [
    {
     "name": "stdout",
     "output_type": "stream",
     "text": [
      "<class 'pandas.core.frame.DataFrame'>\n",
      "Index: 40 entries, 0 to 19\n",
      "Data columns (total 8 columns):\n",
      " #   Column                    Non-Null Count  Dtype  \n",
      "---  ------                    --------------  -----  \n",
      " 0   business_id               40 non-null     object \n",
      " 1   perfil_nombre             40 non-null     object \n",
      " 2   perfil_direccion          40 non-null     object \n",
      " 3   latitude                  40 non-null     float64\n",
      " 4   longitude                 40 non-null     float64\n",
      " 5   perfil_calificacion_yelp  40 non-null     float64\n",
      " 6   review_count              40 non-null     float64\n",
      " 7   is_open                   40 non-null     int64  \n",
      "dtypes: float64(4), int64(1), object(3)\n",
      "memory usage: 2.8+ KB\n"
     ]
    },
    {
     "data": {
      "text/html": [
       "<div>\n",
       "<style scoped>\n",
       "    .dataframe tbody tr th:only-of-type {\n",
       "        vertical-align: middle;\n",
       "    }\n",
       "\n",
       "    .dataframe tbody tr th {\n",
       "        vertical-align: top;\n",
       "    }\n",
       "\n",
       "    .dataframe thead th {\n",
       "        text-align: right;\n",
       "    }\n",
       "</style>\n",
       "<table border=\"1\" class=\"dataframe\">\n",
       "  <thead>\n",
       "    <tr style=\"text-align: right;\">\n",
       "      <th></th>\n",
       "      <th>business_id</th>\n",
       "      <th>perfil_nombre</th>\n",
       "      <th>perfil_direccion</th>\n",
       "      <th>latitude</th>\n",
       "      <th>longitude</th>\n",
       "      <th>perfil_calificacion_yelp</th>\n",
       "      <th>review_count</th>\n",
       "      <th>is_open</th>\n",
       "    </tr>\n",
       "  </thead>\n",
       "  <tbody>\n",
       "    <tr>\n",
       "      <th>0</th>\n",
       "      <td>1w40T5J6br425rMvpS1zgQ</td>\n",
       "      <td>La Cocina del Cafe</td>\n",
       "      <td>1500 S Broad St</td>\n",
       "      <td>39.931674</td>\n",
       "      <td>-75.168458</td>\n",
       "      <td>5.0</td>\n",
       "      <td>24.0</td>\n",
       "      <td>1</td>\n",
       "    </tr>\n",
       "  </tbody>\n",
       "</table>\n",
       "</div>"
      ],
      "text/plain": [
       "              business_id       perfil_nombre perfil_direccion   latitude  \\\n",
       "0  1w40T5J6br425rMvpS1zgQ  La Cocina del Cafe  1500 S Broad St  39.931674   \n",
       "\n",
       "   longitude  perfil_calificacion_yelp  review_count  is_open  \n",
       "0 -75.168458                       5.0          24.0        1  "
      ]
     },
     "execution_count": 3,
     "metadata": {},
     "output_type": "execute_result"
    }
   ],
   "source": [
    "yelp_pa_javi1 = pd.read_csv(os.path.join(folder_pipeline, 'Philly_top20.csv'))\n",
    "yelp_pa_javi2 = pd.read_csv(os.path.join(folder_pipeline, 'Philly_bottom20.csv'))\n",
    "yelp_pa_javi = pd.concat([yelp_pa_javi1,yelp_pa_javi2]).rename(\n",
    "        columns={\n",
    "            \"name\":\"perfil_nombre\"\n",
    "            ,\"address\":\"perfil_direccion\"\n",
    "            #,\"city\":\"county_name\"\n",
    "            #,\"state\":\"state_usps\"\n",
    "            ,\"stars\":\"perfil_calificacion_yelp\"\n",
    "            ,\"categories\":\"perfil_tipo\"\n",
    "            }\n",
    "    )\n",
    "list_javi_business_id = yelp_pa_javi[\"business_id\"].unique()\n",
    "yelp_pa_javi.info()\n",
    "yelp_pa_javi.head(1)\n"
   ]
  },
  {
   "cell_type": "code",
   "execution_count": 4,
   "metadata": {},
   "outputs": [],
   "source": [
    "n_size = int(4000)\n",
    "n_clusters = int(n_size/8)\n",
    "n_tipo = int(n_size/10)\n",
    "data_random_powerbi = pd.DataFrame({\n",
    "    \"kpi_1_satisfaccion\": np.random.normal(loc=60, scale=15.0, size=(n_size))\n",
    "    ,\"kpi_2_popularidad\": np.random.normal(loc=60, scale=15.0, size=(n_size))\n",
    "    ,\"kpi_3_lealtad\": np.random.normal(loc=60, scale=15.0, size=(n_size))\n",
    "    ,\"cluster\":sum([[\"cluster_a\"]*n_clusters,\n",
    "                    [\"cluster_b\"]*n_clusters,\n",
    "                    [\"cluster_c\"]*n_clusters,\n",
    "                    [\"cluster_d\"]*n_clusters,\n",
    "                    [\"cluster_e\"]*n_clusters,\n",
    "                    [\"cluster_f\"]*n_clusters,\n",
    "                    [\"cluster_g\"]*n_clusters,\n",
    "                    [\"cluster_h\"]*n_clusters],[])\n",
    "    ,\"perfil_calificacion_yelp\":np.random.normal(loc=60, scale=15.0, size=(n_size))\n",
    "    ,\"perfil_calificacion_gmaps\":np.random.normal(loc=60, scale=15.0, size=(n_size))\n",
    "    ,\"perfil_nombre\":np.nan\n",
    "    ,\"perfil_direccion\":np.nan\n",
    "    ,\"perfil_tipo\":[\"comida_a\",\"comida_b\",\"comida_c\",\"comida_d\",\"comida_e\"]*2*n_tipo\n",
    "    ,\"perfil_otros\":np.nan\n",
    "    })\n",
    "data_random_powerbi[\"kpi_4_indice\"] = (\n",
    "    (data_random_powerbi[\"kpi_1_satisfaccion\"]*0.4) +\n",
    "    (data_random_powerbi[\"kpi_2_popularidad\"]*0.3) +\n",
    "    (data_random_powerbi[\"kpi_3_lealtad\"]*0.3)\n",
    "    )"
   ]
  },
  {
   "cell_type": "code",
   "execution_count": 5,
   "metadata": {},
   "outputs": [
    {
     "name": "stdout",
     "output_type": "stream",
     "text": [
      "<class 'geopandas.geodataframe.GeoDataFrame'>\n",
      "Index: 165586 entries, 0 to 166416\n",
      "Data columns (total 6 columns):\n",
      " #   Column       Non-Null Count   Dtype  \n",
      "---  ------       --------------   -----  \n",
      " 0   business_id  165586 non-null  string \n",
      " 1   latitude     165586 non-null  Float64\n",
      " 2   longitude    165586 non-null  Float64\n",
      " 3   state_name   165586 non-null  object \n",
      " 4   state_usps   165586 non-null  object \n",
      " 5   county_name  165586 non-null  object \n",
      "dtypes: Float64(2), object(3), string(1)\n",
      "memory usage: 9.2+ MB\n"
     ]
    }
   ],
   "source": [
    "yelp_geodf_zcta_census = pd.read_pickle(\n",
    "    os.path.join(folder_pipeline, 'data_zcta_varsxarea.pkl')).dropna().iloc[:,[0,1,2,17,18,19]]\n",
    "yelp_geodf_zcta_census.info()"
   ]
  },
  {
   "cell_type": "code",
   "execution_count": 6,
   "metadata": {},
   "outputs": [
    {
     "name": "stdout",
     "output_type": "stream",
     "text": [
      "<class 'pandas.core.frame.DataFrame'>\n",
      "RangeIndex: 4000 entries, 0 to 3999\n",
      "Data columns (total 17 columns):\n",
      " #   Column                     Non-Null Count  Dtype  \n",
      "---  ------                     --------------  -----  \n",
      " 0   kpi_1_satisfaccion         4000 non-null   float64\n",
      " 1   kpi_2_popularidad          4000 non-null   float64\n",
      " 2   kpi_3_lealtad              4000 non-null   float64\n",
      " 3   cluster                    4000 non-null   object \n",
      " 4   perfil_calificacion_yelp   4000 non-null   float64\n",
      " 5   perfil_calificacion_gmaps  4000 non-null   float64\n",
      " 6   perfil_nombre              0 non-null      float64\n",
      " 7   perfil_direccion           0 non-null      float64\n",
      " 8   perfil_tipo                4000 non-null   object \n",
      " 9   perfil_otros               0 non-null      float64\n",
      " 10  kpi_4_indice               4000 non-null   float64\n",
      " 11  business_id                4000 non-null   string \n",
      " 12  latitude                   4000 non-null   Float64\n",
      " 13  longitude                  4000 non-null   Float64\n",
      " 14  state_name                 4000 non-null   object \n",
      " 15  state_usps                 4000 non-null   object \n",
      " 16  county_name                4000 non-null   object \n",
      "dtypes: Float64(2), float64(9), object(5), string(1)\n",
      "memory usage: 539.2+ KB\n"
     ]
    }
   ],
   "source": [
    "yelp_geodf_zcta_census = yelp_geodf_zcta_census[~yelp_geodf_zcta_census.business_id.isin(list_javi_business_id)].copy()\n",
    "n_sample = len(data_random_powerbi.index)\n",
    "yelp_geodf_zcta_census_sample = yelp_geodf_zcta_census.sample(n=n_sample)\n",
    "yelp_geodf_zcta_census_sample.reset_index(drop=True, inplace=True)\n",
    "data_random_powerbi = data_random_powerbi.join(yelp_geodf_zcta_census_sample)\n",
    "data_random_powerbi.info()"
   ]
  },
  {
   "cell_type": "code",
   "execution_count": 7,
   "metadata": {},
   "outputs": [
    {
     "name": "stdout",
     "output_type": "stream",
     "text": [
      "<class 'pandas.core.frame.DataFrame'>\n",
      "Index: 4040 entries, 0 to 19\n",
      "Data columns (total 19 columns):\n",
      " #   Column                     Non-Null Count  Dtype  \n",
      "---  ------                     --------------  -----  \n",
      " 0   kpi_1_satisfaccion         4000 non-null   float64\n",
      " 1   kpi_2_popularidad          4000 non-null   float64\n",
      " 2   kpi_3_lealtad              4000 non-null   float64\n",
      " 3   cluster                    4000 non-null   object \n",
      " 4   perfil_calificacion_yelp   4040 non-null   float64\n",
      " 5   perfil_calificacion_gmaps  4000 non-null   float64\n",
      " 6   perfil_nombre              40 non-null     object \n",
      " 7   perfil_direccion           40 non-null     object \n",
      " 8   perfil_tipo                4000 non-null   object \n",
      " 9   perfil_otros               0 non-null      float64\n",
      " 10  kpi_4_indice               4000 non-null   float64\n",
      " 11  business_id                4040 non-null   object \n",
      " 12  latitude                   4040 non-null   Float64\n",
      " 13  longitude                  4040 non-null   Float64\n",
      " 14  state_name                 4000 non-null   object \n",
      " 15  state_usps                 4000 non-null   object \n",
      " 16  county_name                4000 non-null   object \n",
      " 17  review_count               40 non-null     float64\n",
      " 18  is_open                    40 non-null     float64\n",
      "dtypes: Float64(2), float64(9), object(8)\n",
      "memory usage: 639.1+ KB\n"
     ]
    }
   ],
   "source": [
    "yelp_geodf_zcta_census_javi = pd.concat([data_random_powerbi,yelp_pa_javi])\n",
    "yelp_geodf_zcta_census_javi.to_csv(\n",
    "    os.path.join(folder_output, 'data_random_powerbi.csv'))\n",
    "yelp_geodf_zcta_census_javi.info()"
   ]
  },
  {
   "cell_type": "code",
   "execution_count": 8,
   "metadata": {},
   "outputs": [],
   "source": [
    "list_business_id = []\n",
    "for i in range(min(data_random_powerbi.index),max(data_random_powerbi.index)+1):\n",
    "    business_id = str(uuid.uuid4().hex)\n",
    "    dict_case = {'index':i,'business_id':business_id}\n",
    "    list_business_id.append(dict_case)\n",
    "data_random_business_id = pd.DataFrame(list_business_id).set_index('index')"
   ]
  }
 ],
 "metadata": {
  "kernelspec": {
   "display_name": "pandas_scikit",
   "language": "python",
   "name": "python3"
  },
  "language_info": {
   "codemirror_mode": {
    "name": "ipython",
    "version": 3
   },
   "file_extension": ".py",
   "mimetype": "text/x-python",
   "name": "python",
   "nbconvert_exporter": "python",
   "pygments_lexer": "ipython3",
   "version": "3.10.13"
  },
  "orig_nbformat": 4
 },
 "nbformat": 4,
 "nbformat_minor": 2
}
