{
 "cells": [
  {
   "cell_type": "code",
   "execution_count": 1,
   "metadata": {},
   "outputs": [],
   "source": [
    "import pandas as pd"
   ]
  },
  {
   "cell_type": "code",
   "execution_count": null,
   "metadata": {},
   "outputs": [],
   "source": [
    "import json\n",
    "data = []\n",
    "with open(r\"C:\\Users\\alfon\\OneDrive\\Escritorio\\Alfonzo\\Henry\\ProyectoFina\\review-Texas\\1.json\", \"r\") as file:\n",
    "    for line in file:\n",
    "        data.append(json.loads(line))\n",
    "\n",
    "wyoming_review3 = pd.DataFrame(data)"
   ]
  },
  {
   "cell_type": "markdown",
   "metadata": {},
   "source": [
    "# A los efectos de unificar el metodo de extraccion, se concensuo seguir esta codificacion:"
   ]
  },
  {
   "cell_type": "code",
   "execution_count": null,
   "metadata": {},
   "outputs": [],
   "source": [
    "# Función para procesar una línea de JSON y escapar comillas internas\n",
    "def procesar_linea(linea):\n",
    "    try:\n",
    "        # Corregir la línea escapando las comillas dobles internas\n",
    "        linea_corregida = linea.replace('\\\\\"', '\\\\\\\\\"')\n",
    "        \n",
    "        # Analizar el JSON corregido\n",
    "        json_data = json.loads(linea_corregida)\n",
    "        return json_data\n",
    "    except json.JSONDecodeError as e:\n",
    "        print(f\"Error parsing JSON in line: {linea}\")\n",
    "        print(e)\n",
    "        return None\n",
    "\n",
    "data = []\n",
    "\n",
    "with open(r\"C:\\Users\\alfon\\OneDrive\\Escritorio\\Alfonzo\\Henry\\ProyectoFina\\review-Wisconsin\\5.json\", \"r\") as file:\n",
    "    \n",
    "    for line in file:\n",
    "        # Eliminar espacios en blanco al principio y al final de la línea\n",
    "        line = line.strip()\n",
    "        \n",
    "        # Si la línea está vacía, continuar\n",
    "        if not line:\n",
    "            continue\n",
    "        \n",
    "        # Procesar la línea y agregar los datos al resultado\n",
    "        json_data = procesar_linea(line)\n",
    "        if json_data is not None:\n",
    "            data.append(json_data)\n",
    "\n",
    "# Crear un DataFrame a partir de la lista 'data'\n",
    "wi_reviwe5 = pd.DataFrame(data)"
   ]
  },
  {
   "cell_type": "markdown",
   "metadata": {},
   "source": [
    "# Unimos los df extraidos para cada estado y vamos uniendolos en un solo df por estado."
   ]
  },
  {
   "cell_type": "code",
   "execution_count": 171,
   "metadata": {},
   "outputs": [],
   "source": [
    "# Crea una lista con los DataFrames que deseas concatenar\n",
    "x = [wy_review1, wy_review2, wy_review3]\n",
    "\n",
    "# Utiliza pandas.concat() para concatenar los DataFrames a lo largo del eje 0 (por defecto)\n",
    "reviwe_wy = pd.concat(x)\n",
    "\n",
    "# El resultado es un nuevo DataFrame que contiene la concatenación de los DataFrames originales"
   ]
  },
  {
   "cell_type": "markdown",
   "metadata": {},
   "source": [
    "# Conteo de nulos por filas y columnas para South Dakota"
   ]
  },
  {
   "cell_type": "code",
   "execution_count": 183,
   "metadata": {},
   "outputs": [
    {
     "name": "stdout",
     "output_type": "stream",
     "text": [
      "Conteo de valores nulos por fila:\n",
      "0        2\n",
      "1        2\n",
      "2        2\n",
      "3        3\n",
      "4        3\n",
      "        ..\n",
      "72310    3\n",
      "72311    3\n",
      "72312    3\n",
      "72313    3\n",
      "72314    3\n",
      "Length: 668466, dtype: int64\n"
     ]
    }
   ],
   "source": [
    "# Contar los valores nulos para cada fila\n",
    "conteo_nulos_filas_sd = reviwe_sd.isnull().sum(axis='columns')\n",
    "\n",
    "print(\"Conteo de valores nulos por fila:\")\n",
    "print(conteo_nulos_filas_sd)"
   ]
  },
  {
   "cell_type": "code",
   "execution_count": 182,
   "metadata": {},
   "outputs": [
    {
     "name": "stdout",
     "output_type": "stream",
     "text": [
      "Conteo de valores nulos por columna:\n",
      "user_id         0\n",
      "name            0\n",
      "time            0\n",
      "rating          0\n",
      "text       325783\n",
      "pics       652993\n",
      "resp       586753\n",
      "gmap_id         0\n",
      "dtype: int64\n"
     ]
    }
   ],
   "source": [
    "# Contar los valores nulos por columna:\n",
    "conteo_nulos_column_sd = reviwe_sd.isnull().sum()\n",
    "\n",
    "print(\"Conteo de valores nulos por columna:\")\n",
    "print(conteo_nulos_column_sd)\n"
   ]
  },
  {
   "cell_type": "markdown",
   "metadata": {},
   "source": [
    "# Duplicados South Dakota"
   ]
  },
  {
   "cell_type": "code",
   "execution_count": null,
   "metadata": {},
   "outputs": [],
   "source": [
    "#registros_duplicados_sd = reviwe_sd.duplicated()\n",
    "reviwe_sd.duplicated().sum()"
   ]
  },
  {
   "cell_type": "markdown",
   "metadata": {},
   "source": [
    "# Conteo de nulos por filas y columnas para Tennessee"
   ]
  },
  {
   "cell_type": "code",
   "execution_count": 184,
   "metadata": {},
   "outputs": [
    {
     "name": "stdout",
     "output_type": "stream",
     "text": [
      "Conteo de valores nulos por fila:\n",
      "0         1\n",
      "1         2\n",
      "2         2\n",
      "3         2\n",
      "4         2\n",
      "         ..\n",
      "149118    3\n",
      "149119    3\n",
      "149120    3\n",
      "149121    3\n",
      "149122    3\n",
      "Length: 1785442, dtype: int64\n"
     ]
    }
   ],
   "source": [
    "# Contar los valores nulos para cada fila\n",
    "conteo_nulos_filas_te = reviwe_te.isnull().sum(axis='columns')\n",
    "\n",
    "print(\"Conteo de valores nulos por fila:\")\n",
    "print(conteo_nulos_filas_te)"
   ]
  },
  {
   "cell_type": "code",
   "execution_count": 185,
   "metadata": {},
   "outputs": [
    {
     "name": "stdout",
     "output_type": "stream",
     "text": [
      "Conteo de valores nulos por columna:\n",
      "user_id          0\n",
      "name             0\n",
      "time             0\n",
      "rating           0\n",
      "text        778900\n",
      "pics       1742581\n",
      "resp       1534887\n",
      "gmap_id          0\n",
      "dtype: int64\n"
     ]
    }
   ],
   "source": [
    "# Contar los valores nulos por columna:\n",
    "conteo_nulos_column_te = reviwe_te.isnull().sum()\n",
    "\n",
    "print(\"Conteo de valores nulos por columna:\")\n",
    "print(conteo_nulos_column_te)"
   ]
  },
  {
   "cell_type": "markdown",
   "metadata": {},
   "source": [
    "# Conteo de nulos por filas y columnas para Texas"
   ]
  },
  {
   "cell_type": "code",
   "execution_count": 188,
   "metadata": {},
   "outputs": [
    {
     "name": "stdout",
     "output_type": "stream",
     "text": [
      "Conteo de valores nulos por columna:\n",
      "user_id          0\n",
      "name             0\n",
      "time             0\n",
      "rating           0\n",
      "text        918533\n",
      "pics       2203049\n",
      "resp       1903993\n",
      "gmap_id          0\n",
      "dtype: int64\n"
     ]
    }
   ],
   "source": [
    "# Contar los valores nulos por fila:\n",
    "conteo_nulos_filas_tx = reviwe_tx.isnull().sum()\n",
    "\n",
    "print(\"Conteo de valores nulos por columna:\")\n",
    "print(conteo_nulos_filas_tx)"
   ]
  },
  {
   "cell_type": "code",
   "execution_count": 187,
   "metadata": {},
   "outputs": [
    {
     "name": "stdout",
     "output_type": "stream",
     "text": [
      "Conteo de valores nulos por columna:\n",
      "user_id          0\n",
      "name             0\n",
      "time             0\n",
      "rating           0\n",
      "text        918533\n",
      "pics       2203049\n",
      "resp       1903993\n",
      "gmap_id          0\n",
      "dtype: int64\n"
     ]
    }
   ],
   "source": [
    "# Contar los valores nulos por columna:\n",
    "conteo_nulos_column_tx = reviwe_tx.isnull().sum()\n",
    "\n",
    "print(\"Conteo de valores nulos por columna:\")\n",
    "print(conteo_nulos_column_tx)"
   ]
  },
  {
   "cell_type": "markdown",
   "metadata": {},
   "source": [
    "# Conteo de nulos por filas y columnas para Utah"
   ]
  },
  {
   "cell_type": "code",
   "execution_count": 189,
   "metadata": {},
   "outputs": [
    {
     "name": "stdout",
     "output_type": "stream",
     "text": [
      "Conteo de valores nulos por columna:\n",
      "user_id          0\n",
      "name             0\n",
      "time             0\n",
      "rating           0\n",
      "text        563839\n",
      "pics       1433088\n",
      "resp       1235460\n",
      "gmap_id          0\n",
      "dtype: int64\n"
     ]
    }
   ],
   "source": [
    "# Contar los valores nulos por fila:\n",
    "conteo_nulos_filas_ut = reviwe_ut.isnull().sum()\n",
    "\n",
    "print(\"Conteo de valores nulos por columna:\")\n",
    "print(conteo_nulos_filas_ut)"
   ]
  },
  {
   "cell_type": "code",
   "execution_count": 190,
   "metadata": {},
   "outputs": [
    {
     "name": "stdout",
     "output_type": "stream",
     "text": [
      "Conteo de valores nulos por columna:\n",
      "user_id          0\n",
      "name             0\n",
      "time             0\n",
      "rating           0\n",
      "text        563839\n",
      "pics       1433088\n",
      "resp       1235460\n",
      "gmap_id          0\n",
      "dtype: int64\n"
     ]
    }
   ],
   "source": [
    "# Contar los valores nulos por columna:\n",
    "conteo_nulos_column_ut = reviwe_ut.isnull().sum()\n",
    "\n",
    "print(\"Conteo de valores nulos por columna:\")\n",
    "print(conteo_nulos_column_ut)"
   ]
  },
  {
   "cell_type": "markdown",
   "metadata": {},
   "source": [
    "# Conteo de nulos por filas y columnas para Vermont"
   ]
  },
  {
   "cell_type": "code",
   "execution_count": 191,
   "metadata": {},
   "outputs": [
    {
     "name": "stdout",
     "output_type": "stream",
     "text": [
      "Conteo de valores nulos por columna:\n",
      "user_id         0\n",
      "name            0\n",
      "time            0\n",
      "rating          0\n",
      "text       146543\n",
      "pics       312630\n",
      "resp       295722\n",
      "gmap_id         0\n",
      "dtype: int64\n"
     ]
    }
   ],
   "source": [
    "# Contar los valores nulos por fila:\n",
    "conteo_nulos_filas_vm = reviwe_vm.isnull().sum()\n",
    "\n",
    "print(\"Conteo de valores nulos por columna:\")\n",
    "print(conteo_nulos_filas_vm)"
   ]
  },
  {
   "cell_type": "code",
   "execution_count": 192,
   "metadata": {},
   "outputs": [
    {
     "name": "stdout",
     "output_type": "stream",
     "text": [
      "Conteo de valores nulos por columna:\n",
      "user_id         0\n",
      "name            0\n",
      "time            0\n",
      "rating          0\n",
      "text       146543\n",
      "pics       312630\n",
      "resp       295722\n",
      "gmap_id         0\n",
      "dtype: int64\n"
     ]
    }
   ],
   "source": [
    "# Contar los valores nulos por columna:\n",
    "conteo_nulos_column_vm = reviwe_vm.isnull().sum()\n",
    "\n",
    "print(\"Conteo de valores nulos por columna:\")\n",
    "print(conteo_nulos_column_vm)"
   ]
  },
  {
   "cell_type": "markdown",
   "metadata": {},
   "source": [
    "# Conteo de nulos por filas y columnas para Virginia"
   ]
  },
  {
   "cell_type": "code",
   "execution_count": 193,
   "metadata": {},
   "outputs": [
    {
     "name": "stdout",
     "output_type": "stream",
     "text": [
      "Conteo de valores nulos por columna:\n",
      "user_id          0\n",
      "name             0\n",
      "time             0\n",
      "rating           0\n",
      "text        712640\n",
      "pics       1600435\n",
      "resp       1425426\n",
      "gmap_id          0\n",
      "dtype: int64\n"
     ]
    }
   ],
   "source": [
    "# Contar los valores nulos por fila:\n",
    "conteo_nulos_filas_vg = reviwe_vg.isnull().sum()\n",
    "\n",
    "print(\"Conteo de valores nulos por columna:\")\n",
    "print(conteo_nulos_filas_vg)"
   ]
  },
  {
   "cell_type": "code",
   "execution_count": 194,
   "metadata": {},
   "outputs": [
    {
     "name": "stdout",
     "output_type": "stream",
     "text": [
      "Conteo de valores nulos por columna:\n",
      "user_id          0\n",
      "name             0\n",
      "time             0\n",
      "rating           0\n",
      "text        712640\n",
      "pics       1600435\n",
      "resp       1425426\n",
      "gmap_id          0\n",
      "dtype: int64\n"
     ]
    }
   ],
   "source": [
    "# Contar los valores nulos por columna:\n",
    "conteo_nulos_column_vg = reviwe_vg.isnull().sum()\n",
    "\n",
    "print(\"Conteo de valores nulos por columna:\")\n",
    "print(conteo_nulos_column_vg)"
   ]
  },
  {
   "cell_type": "markdown",
   "metadata": {},
   "source": [
    "# Conteo de nulos por filas y columnas para Washington"
   ]
  },
  {
   "cell_type": "code",
   "execution_count": 195,
   "metadata": {},
   "outputs": [
    {
     "name": "stdout",
     "output_type": "stream",
     "text": [
      "Conteo de valores nulos por columna:\n",
      "user_id          0\n",
      "name             0\n",
      "time             0\n",
      "rating           0\n",
      "text        793825\n",
      "pics       1847463\n",
      "resp       1702174\n",
      "gmap_id          0\n",
      "dtype: int64\n"
     ]
    }
   ],
   "source": [
    "# Contar los valores nulos por fila:\n",
    "conteo_nulos_filas_wdc = reviwe_wdc.isnull().sum()\n",
    "\n",
    "print(\"Conteo de valores nulos por columna:\")\n",
    "print(conteo_nulos_filas_wdc)"
   ]
  },
  {
   "cell_type": "code",
   "execution_count": 196,
   "metadata": {},
   "outputs": [
    {
     "name": "stdout",
     "output_type": "stream",
     "text": [
      "Conteo de valores nulos por columna:\n",
      "user_id          0\n",
      "name             0\n",
      "time             0\n",
      "rating           0\n",
      "text        793825\n",
      "pics       1847463\n",
      "resp       1702174\n",
      "gmap_id          0\n",
      "dtype: int64\n"
     ]
    }
   ],
   "source": [
    "# Contar los valores nulos por columna:\n",
    "conteo_nulos_column_wdc = reviwe_wdc.isnull().sum()\n",
    "\n",
    "print(\"Conteo de valores nulos por columna:\")\n",
    "print(conteo_nulos_column_wdc)"
   ]
  },
  {
   "cell_type": "markdown",
   "metadata": {},
   "source": [
    "# Conteo de nulos por filas y columnas para West_Virginia"
   ]
  },
  {
   "cell_type": "code",
   "execution_count": 197,
   "metadata": {},
   "outputs": [
    {
     "name": "stdout",
     "output_type": "stream",
     "text": [
      "Conteo de valores nulos por columna:\n",
      "user_id          0\n",
      "name             0\n",
      "time             0\n",
      "rating           0\n",
      "text        520782\n",
      "pics       1056394\n",
      "resp        982976\n",
      "gmap_id          0\n",
      "dtype: int64\n"
     ]
    }
   ],
   "source": [
    "# Contar los valores nulos por fila:\n",
    "conteo_nulos_filas_wv = reviwe_wv.isnull().sum()\n",
    "\n",
    "print(\"Conteo de valores nulos por columna:\")\n",
    "print(conteo_nulos_filas_wv)"
   ]
  },
  {
   "cell_type": "code",
   "execution_count": 198,
   "metadata": {},
   "outputs": [
    {
     "name": "stdout",
     "output_type": "stream",
     "text": [
      "Conteo de valores nulos por columna:\n",
      "user_id          0\n",
      "name             0\n",
      "time             0\n",
      "rating           0\n",
      "text        520782\n",
      "pics       1056394\n",
      "resp        982976\n",
      "gmap_id          0\n",
      "dtype: int64\n"
     ]
    }
   ],
   "source": [
    "# Contar los valores nulos por columna:\n",
    "conteo_nulos_column_wv = reviwe_wv.isnull().sum()\n",
    "\n",
    "print(\"Conteo de valores nulos por columna:\")\n",
    "print(conteo_nulos_column_wv)"
   ]
  },
  {
   "cell_type": "markdown",
   "metadata": {},
   "source": [
    "# Conteo de nulos por filas y columnas para Wisconsin"
   ]
  },
  {
   "cell_type": "code",
   "execution_count": 199,
   "metadata": {},
   "outputs": [
    {
     "name": "stdout",
     "output_type": "stream",
     "text": [
      "Conteo de valores nulos por columna:\n",
      "user_id          0\n",
      "name             0\n",
      "time             0\n",
      "rating           0\n",
      "text        520782\n",
      "pics       1056394\n",
      "resp        982976\n",
      "gmap_id          0\n",
      "dtype: int64\n"
     ]
    }
   ],
   "source": [
    "# Contar los valores nulos por fila:\n",
    "conteo_nulos_filas_wv = reviwe_wv.isnull().sum()\n",
    "\n",
    "print(\"Conteo de valores nulos por columna:\")\n",
    "print(conteo_nulos_filas_wv)"
   ]
  },
  {
   "cell_type": "code",
   "execution_count": 200,
   "metadata": {},
   "outputs": [
    {
     "name": "stdout",
     "output_type": "stream",
     "text": [
      "Conteo de valores nulos por columna:\n",
      "user_id          0\n",
      "name             0\n",
      "time             0\n",
      "rating           0\n",
      "text        520782\n",
      "pics       1056394\n",
      "resp        982976\n",
      "gmap_id          0\n",
      "dtype: int64\n"
     ]
    }
   ],
   "source": [
    "# Contar los valores nulos por columna:\n",
    "conteo_nulos_column_wv = reviwe_wv.isnull().sum()\n",
    "\n",
    "print(\"Conteo de valores nulos por columna:\")\n",
    "print(conteo_nulos_column_wv)"
   ]
  },
  {
   "cell_type": "markdown",
   "metadata": {},
   "source": [
    "# Conteo de nulos por filas y columnas para Wisconsin"
   ]
  },
  {
   "cell_type": "code",
   "execution_count": 201,
   "metadata": {},
   "outputs": [
    {
     "name": "stdout",
     "output_type": "stream",
     "text": [
      "Conteo de valores nulos por columna:\n",
      "user_id          0\n",
      "name             0\n",
      "time             0\n",
      "rating           0\n",
      "text        800349\n",
      "pics       1744382\n",
      "resp       1567298\n",
      "gmap_id          0\n",
      "dtype: int64\n"
     ]
    }
   ],
   "source": [
    "# Contar los valores nulos por fila:\n",
    "conteo_nulos_filas_wi = reviwe_wi.isnull().sum()\n",
    "\n",
    "print(\"Conteo de valores nulos por columna:\")\n",
    "print(conteo_nulos_filas_wi)"
   ]
  },
  {
   "cell_type": "code",
   "execution_count": 202,
   "metadata": {},
   "outputs": [
    {
     "name": "stdout",
     "output_type": "stream",
     "text": [
      "Conteo de valores nulos por columna:\n",
      "user_id          0\n",
      "name             0\n",
      "time             0\n",
      "rating           0\n",
      "text        800349\n",
      "pics       1744382\n",
      "resp       1567298\n",
      "gmap_id          0\n",
      "dtype: int64\n"
     ]
    }
   ],
   "source": [
    "# Contar los valores nulos por columna:\n",
    "conteo_nulos_column_wi = reviwe_wi.isnull().sum()\n",
    "\n",
    "print(\"Conteo de valores nulos por columna:\")\n",
    "print(conteo_nulos_column_wi)"
   ]
  },
  {
   "cell_type": "markdown",
   "metadata": {},
   "source": [
    "# Conteo de nulos por filas y columnas para Wyoming"
   ]
  },
  {
   "cell_type": "code",
   "execution_count": 203,
   "metadata": {},
   "outputs": [
    {
     "name": "stdout",
     "output_type": "stream",
     "text": [
      "Conteo de valores nulos por columna:\n",
      "user_id         0\n",
      "name            0\n",
      "time            0\n",
      "rating          0\n",
      "text       193136\n",
      "pics       414774\n",
      "resp       381938\n",
      "gmap_id         0\n",
      "dtype: int64\n"
     ]
    }
   ],
   "source": [
    "# Contar los valores nulos por fila:\n",
    "conteo_nulos_filas_wy = reviwe_wy.isnull().sum()\n",
    "\n",
    "print(\"Conteo de valores nulos por columna:\")\n",
    "print(conteo_nulos_filas_wy)"
   ]
  },
  {
   "cell_type": "code",
   "execution_count": 204,
   "metadata": {},
   "outputs": [
    {
     "name": "stdout",
     "output_type": "stream",
     "text": [
      "Conteo de valores nulos por columna:\n",
      "user_id         0\n",
      "name            0\n",
      "time            0\n",
      "rating          0\n",
      "text       193136\n",
      "pics       414774\n",
      "resp       381938\n",
      "gmap_id         0\n",
      "dtype: int64\n"
     ]
    }
   ],
   "source": [
    "# Contar los valores nulos por columna:\n",
    "conteo_nulos_column_wy = reviwe_wy.isnull().sum()\n",
    "\n",
    "print(\"Conteo de valores nulos por columna:\")\n",
    "print(conteo_nulos_column_wy)"
   ]
  },
  {
   "cell_type": "markdown",
   "metadata": {},
   "source": [
    "# Convierto el campo 'time' en formato date."
   ]
  },
  {
   "cell_type": "code",
   "execution_count": 222,
   "metadata": {},
   "outputs": [
    {
     "data": {
      "text/html": [
       "<div>\n",
       "<style scoped>\n",
       "    .dataframe tbody tr th:only-of-type {\n",
       "        vertical-align: middle;\n",
       "    }\n",
       "\n",
       "    .dataframe tbody tr th {\n",
       "        vertical-align: top;\n",
       "    }\n",
       "\n",
       "    .dataframe thead th {\n",
       "        text-align: right;\n",
       "    }\n",
       "</style>\n",
       "<table border=\"1\" class=\"dataframe\">\n",
       "  <thead>\n",
       "    <tr style=\"text-align: right;\">\n",
       "      <th></th>\n",
       "      <th>user_id</th>\n",
       "      <th>name</th>\n",
       "      <th>time</th>\n",
       "      <th>rating</th>\n",
       "      <th>text</th>\n",
       "      <th>pics</th>\n",
       "      <th>resp</th>\n",
       "      <th>gmap_id</th>\n",
       "    </tr>\n",
       "  </thead>\n",
       "  <tbody>\n",
       "    <tr>\n",
       "      <th>0</th>\n",
       "      <td>103563353519118158246</td>\n",
       "      <td>Peri Gray</td>\n",
       "      <td>2018-01-16 17:11:15</td>\n",
       "      <td>5</td>\n",
       "      <td>Great place to care for our children.</td>\n",
       "      <td>None</td>\n",
       "      <td>None</td>\n",
       "      <td>0x532af45db8f30779:0xd9be9359f1e56178</td>\n",
       "    </tr>\n",
       "    <tr>\n",
       "      <th>1</th>\n",
       "      <td>101824980797027243148</td>\n",
       "      <td>Suzy Berndt</td>\n",
       "      <td>2018-07-30 03:45:50</td>\n",
       "      <td>5</td>\n",
       "      <td>Th sw y are so nice</td>\n",
       "      <td>None</td>\n",
       "      <td>None</td>\n",
       "      <td>0x532af45db8f30779:0xd9be9359f1e56178</td>\n",
       "    </tr>\n",
       "    <tr>\n",
       "      <th>2</th>\n",
       "      <td>108711640480272772398</td>\n",
       "      <td>Rosemary Red Legs</td>\n",
       "      <td>2018-07-07 13:11:33</td>\n",
       "      <td>5</td>\n",
       "      <td>Went with my daughter</td>\n",
       "      <td>None</td>\n",
       "      <td>None</td>\n",
       "      <td>0x532af45db8f30779:0xd9be9359f1e56178</td>\n",
       "    </tr>\n",
       "    <tr>\n",
       "      <th>3</th>\n",
       "      <td>101852294221648460926</td>\n",
       "      <td>Brown Wolf</td>\n",
       "      <td>2018-09-16 08:13:55</td>\n",
       "      <td>2</td>\n",
       "      <td>None</td>\n",
       "      <td>None</td>\n",
       "      <td>None</td>\n",
       "      <td>0x532af45db8f30779:0xd9be9359f1e56178</td>\n",
       "    </tr>\n",
       "    <tr>\n",
       "      <th>4</th>\n",
       "      <td>108987444312280650947</td>\n",
       "      <td>C J Blue Coat</td>\n",
       "      <td>2016-09-26 20:39:35</td>\n",
       "      <td>5</td>\n",
       "      <td>None</td>\n",
       "      <td>None</td>\n",
       "      <td>None</td>\n",
       "      <td>0x532af45db8f30779:0xd9be9359f1e56178</td>\n",
       "    </tr>\n",
       "  </tbody>\n",
       "</table>\n",
       "</div>"
      ],
      "text/plain": [
       "                 user_id               name                time  rating  \\\n",
       "0  103563353519118158246          Peri Gray 2018-01-16 17:11:15       5   \n",
       "1  101824980797027243148        Suzy Berndt 2018-07-30 03:45:50       5   \n",
       "2  108711640480272772398  Rosemary Red Legs 2018-07-07 13:11:33       5   \n",
       "3  101852294221648460926         Brown Wolf 2018-09-16 08:13:55       2   \n",
       "4  108987444312280650947      C J Blue Coat 2016-09-26 20:39:35       5   \n",
       "\n",
       "                                    text  pics  resp  \\\n",
       "0  Great place to care for our children.  None  None   \n",
       "1                    Th sw y are so nice  None  None   \n",
       "2                  Went with my daughter  None  None   \n",
       "3                                   None  None  None   \n",
       "4                                   None  None  None   \n",
       "\n",
       "                                 gmap_id  \n",
       "0  0x532af45db8f30779:0xd9be9359f1e56178  \n",
       "1  0x532af45db8f30779:0xd9be9359f1e56178  \n",
       "2  0x532af45db8f30779:0xd9be9359f1e56178  \n",
       "3  0x532af45db8f30779:0xd9be9359f1e56178  \n",
       "4  0x532af45db8f30779:0xd9be9359f1e56178  "
      ]
     },
     "execution_count": 222,
     "metadata": {},
     "output_type": "execute_result"
    }
   ],
   "source": [
    "reviwe_sd['time'] = pd.to_datetime(reviwe_sd['time'] // 1000, unit='s')\n",
    "reviwe_sd.head()"
   ]
  },
  {
   "cell_type": "code",
   "execution_count": 224,
   "metadata": {},
   "outputs": [
    {
     "data": {
      "text/html": [
       "<div>\n",
       "<style scoped>\n",
       "    .dataframe tbody tr th:only-of-type {\n",
       "        vertical-align: middle;\n",
       "    }\n",
       "\n",
       "    .dataframe tbody tr th {\n",
       "        vertical-align: top;\n",
       "    }\n",
       "\n",
       "    .dataframe thead th {\n",
       "        text-align: right;\n",
       "    }\n",
       "</style>\n",
       "<table border=\"1\" class=\"dataframe\">\n",
       "  <thead>\n",
       "    <tr style=\"text-align: right;\">\n",
       "      <th></th>\n",
       "      <th>user_id</th>\n",
       "      <th>name</th>\n",
       "      <th>time</th>\n",
       "      <th>rating</th>\n",
       "      <th>text</th>\n",
       "      <th>pics</th>\n",
       "      <th>resp</th>\n",
       "      <th>gmap_id</th>\n",
       "      <th>date</th>\n",
       "    </tr>\n",
       "  </thead>\n",
       "  <tbody>\n",
       "    <tr>\n",
       "      <th>0</th>\n",
       "      <td>103563353519118158246</td>\n",
       "      <td>Peri Gray</td>\n",
       "      <td>2018-01-16 17:11:15</td>\n",
       "      <td>5</td>\n",
       "      <td>Great place to care for our children.</td>\n",
       "      <td>None</td>\n",
       "      <td>None</td>\n",
       "      <td>0x532af45db8f30779:0xd9be9359f1e56178</td>\n",
       "      <td>2018-01-16</td>\n",
       "    </tr>\n",
       "    <tr>\n",
       "      <th>1</th>\n",
       "      <td>101824980797027243148</td>\n",
       "      <td>Suzy Berndt</td>\n",
       "      <td>2018-07-30 03:45:50</td>\n",
       "      <td>5</td>\n",
       "      <td>Th sw y are so nice</td>\n",
       "      <td>None</td>\n",
       "      <td>None</td>\n",
       "      <td>0x532af45db8f30779:0xd9be9359f1e56178</td>\n",
       "      <td>2018-07-30</td>\n",
       "    </tr>\n",
       "    <tr>\n",
       "      <th>2</th>\n",
       "      <td>108711640480272772398</td>\n",
       "      <td>Rosemary Red Legs</td>\n",
       "      <td>2018-07-07 13:11:33</td>\n",
       "      <td>5</td>\n",
       "      <td>Went with my daughter</td>\n",
       "      <td>None</td>\n",
       "      <td>None</td>\n",
       "      <td>0x532af45db8f30779:0xd9be9359f1e56178</td>\n",
       "      <td>2018-07-07</td>\n",
       "    </tr>\n",
       "    <tr>\n",
       "      <th>3</th>\n",
       "      <td>101852294221648460926</td>\n",
       "      <td>Brown Wolf</td>\n",
       "      <td>2018-09-16 08:13:55</td>\n",
       "      <td>2</td>\n",
       "      <td>None</td>\n",
       "      <td>None</td>\n",
       "      <td>None</td>\n",
       "      <td>0x532af45db8f30779:0xd9be9359f1e56178</td>\n",
       "      <td>2018-09-16</td>\n",
       "    </tr>\n",
       "    <tr>\n",
       "      <th>4</th>\n",
       "      <td>108987444312280650947</td>\n",
       "      <td>C J Blue Coat</td>\n",
       "      <td>2016-09-26 20:39:35</td>\n",
       "      <td>5</td>\n",
       "      <td>None</td>\n",
       "      <td>None</td>\n",
       "      <td>None</td>\n",
       "      <td>0x532af45db8f30779:0xd9be9359f1e56178</td>\n",
       "      <td>2016-09-26</td>\n",
       "    </tr>\n",
       "  </tbody>\n",
       "</table>\n",
       "</div>"
      ],
      "text/plain": [
       "                 user_id               name                time  rating  \\\n",
       "0  103563353519118158246          Peri Gray 2018-01-16 17:11:15       5   \n",
       "1  101824980797027243148        Suzy Berndt 2018-07-30 03:45:50       5   \n",
       "2  108711640480272772398  Rosemary Red Legs 2018-07-07 13:11:33       5   \n",
       "3  101852294221648460926         Brown Wolf 2018-09-16 08:13:55       2   \n",
       "4  108987444312280650947      C J Blue Coat 2016-09-26 20:39:35       5   \n",
       "\n",
       "                                    text  pics  resp  \\\n",
       "0  Great place to care for our children.  None  None   \n",
       "1                    Th sw y are so nice  None  None   \n",
       "2                  Went with my daughter  None  None   \n",
       "3                                   None  None  None   \n",
       "4                                   None  None  None   \n",
       "\n",
       "                                 gmap_id        date  \n",
       "0  0x532af45db8f30779:0xd9be9359f1e56178  2018-01-16  \n",
       "1  0x532af45db8f30779:0xd9be9359f1e56178  2018-07-30  \n",
       "2  0x532af45db8f30779:0xd9be9359f1e56178  2018-07-07  \n",
       "3  0x532af45db8f30779:0xd9be9359f1e56178  2018-09-16  \n",
       "4  0x532af45db8f30779:0xd9be9359f1e56178  2016-09-26  "
      ]
     },
     "execution_count": 224,
     "metadata": {},
     "output_type": "execute_result"
    }
   ],
   "source": [
    "# Extraer la fecha en una nueva columna 'fecha'\n",
    "reviwe_sd['date'] = reviwe_sd['time'].dt.date\n",
    "reviwe_sd.head()"
   ]
  },
  {
   "cell_type": "markdown",
   "metadata": {},
   "source": [
    "# Para iterar este proceso de conversion y extraccion de la fecha para todos los df referente a los distintos Estados, procedo de la siguiente manera:"
   ]
  },
  {
   "cell_type": "code",
   "execution_count": null,
   "metadata": {},
   "outputs": [],
   "source": [
    "# Crear una lista con los dataframe (excluyo reviwe_sd ya procesado)\n",
    "lista_df_estados = [reviwe_wy, reviwe_te, reviwe_tx, reviwe_ut, reviwe_wdc, reviwe_vg, reviwe_vm, reviwe_wi, reviwe_wv]\n",
    "\n",
    "# Iterar sobre la lista de DataFrames\n",
    "for df in lista_df_estados:\n",
    "    # Convertir la columna 'time' a formato de fecha y hora\n",
    "    df['time'] = pd.to_datetime(df['time'])\n",
    "\n",
    "    # Extraer la fecha en una nueva columna 'fecha'\n",
    "    df['fecha'] = df['time'].dt.date"
   ]
  }
 ],
 "metadata": {
  "kernelspec": {
   "display_name": "Python 3",
   "language": "python",
   "name": "python3"
  },
  "language_info": {
   "codemirror_mode": {
    "name": "ipython",
    "version": 3
   },
   "file_extension": ".py",
   "mimetype": "text/x-python",
   "name": "python",
   "nbconvert_exporter": "python",
   "pygments_lexer": "ipython3",
   "version": "3.11.2"
  },
  "orig_nbformat": 4
 },
 "nbformat": 4,
 "nbformat_minor": 2
}
