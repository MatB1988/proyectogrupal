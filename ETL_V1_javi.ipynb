{
 "cells": [
  {
   "cell_type": "code",
   "execution_count": 1,
   "metadata": {},
   "outputs": [],
   "source": [
    "import matplotlib.pyplot as plt\n",
    "import missingno as msno\n",
    "import numpy as np\n",
    "import pandas as pd\n",
    "import seaborn as sns\n",
    "import pyarrow.parquet as pq\n",
    "\n",
    "import warnings\n",
    "warnings.filterwarnings(\"ignore\")"
   ]
  },
  {
   "cell_type": "code",
   "execution_count": 2,
   "metadata": {},
   "outputs": [],
   "source": [
    "# Leer el archivo Parquet en un DataFrame de Pandas\n",
    "df_business_yelp = pq.read_table('Archivos/df_business_yelp.parquet').to_pandas()\n",
    "df_checkin_yelp = pq.read_table('Archivos/df_checkin_yelp.parquet').to_pandas()\n",
    "df_tip_yelp = pq.read_table('Archivos/df_tip_yelp.parquet').to_pandas()"
   ]
  },
  {
   "cell_type": "code",
   "execution_count": 3,
   "metadata": {},
   "outputs": [
    {
     "data": {
      "text/html": [
       "<div>\n",
       "<style scoped>\n",
       "    .dataframe tbody tr th:only-of-type {\n",
       "        vertical-align: middle;\n",
       "    }\n",
       "\n",
       "    .dataframe tbody tr th {\n",
       "        vertical-align: top;\n",
       "    }\n",
       "\n",
       "    .dataframe thead th {\n",
       "        text-align: right;\n",
       "    }\n",
       "</style>\n",
       "<table border=\"1\" class=\"dataframe\">\n",
       "  <thead>\n",
       "    <tr style=\"text-align: right;\">\n",
       "      <th></th>\n",
       "      <th>business_id</th>\n",
       "      <th>attribute</th>\n",
       "      <th>condition</th>\n",
       "      <th>day</th>\n",
       "      <th>hour</th>\n",
       "      <th>name</th>\n",
       "      <th>address</th>\n",
       "      <th>city</th>\n",
       "      <th>state</th>\n",
       "      <th>postal_code</th>\n",
       "      <th>latitude</th>\n",
       "      <th>longitude</th>\n",
       "      <th>stars</th>\n",
       "      <th>review_count</th>\n",
       "      <th>is_open</th>\n",
       "      <th>categories</th>\n",
       "    </tr>\n",
       "  </thead>\n",
       "  <tbody>\n",
       "    <tr>\n",
       "      <th>0</th>\n",
       "      <td>Pns2l4eNsfO8kk83dixA6A</td>\n",
       "      <td>ByAppointmentOnly</td>\n",
       "      <td>True</td>\n",
       "      <td>0:0-0:0</td>\n",
       "      <td>None</td>\n",
       "      <td>Abby Rappoport, LAC, CMQ</td>\n",
       "      <td>1616 Chapala St, Ste 2</td>\n",
       "      <td>Santa Barbara</td>\n",
       "      <td>Sin Información</td>\n",
       "      <td>93101</td>\n",
       "      <td>34.426679</td>\n",
       "      <td>-119.711197</td>\n",
       "      <td>5.0</td>\n",
       "      <td>7</td>\n",
       "      <td>0</td>\n",
       "      <td>Doctors, Traditional Chinese Medicine, Naturop...</td>\n",
       "    </tr>\n",
       "    <tr>\n",
       "      <th>1</th>\n",
       "      <td>mpf3x-BjTdTEA3yCZrAYPw</td>\n",
       "      <td>BusinessAcceptsCreditCards</td>\n",
       "      <td>True</td>\n",
       "      <td>Monday</td>\n",
       "      <td>0:0-0:0</td>\n",
       "      <td>The UPS Store</td>\n",
       "      <td>87 Grasso Plaza Shopping Center</td>\n",
       "      <td>Affton</td>\n",
       "      <td>Sin Información</td>\n",
       "      <td>63123</td>\n",
       "      <td>38.551126</td>\n",
       "      <td>-90.335695</td>\n",
       "      <td>3.0</td>\n",
       "      <td>15</td>\n",
       "      <td>1</td>\n",
       "      <td>Shipping Centers, Local Services, Notaries, Ma...</td>\n",
       "    </tr>\n",
       "  </tbody>\n",
       "</table>\n",
       "</div>"
      ],
      "text/plain": [
       "              business_id                   attribute condition      day  \\\n",
       "0  Pns2l4eNsfO8kk83dixA6A           ByAppointmentOnly      True  0:0-0:0   \n",
       "1  mpf3x-BjTdTEA3yCZrAYPw  BusinessAcceptsCreditCards      True   Monday   \n",
       "\n",
       "      hour                      name                          address  \\\n",
       "0     None  Abby Rappoport, LAC, CMQ           1616 Chapala St, Ste 2   \n",
       "1  0:0-0:0             The UPS Store  87 Grasso Plaza Shopping Center   \n",
       "\n",
       "            city            state postal_code   latitude   longitude  stars  \\\n",
       "0  Santa Barbara  Sin Información       93101  34.426679 -119.711197    5.0   \n",
       "1         Affton  Sin Información       63123  38.551126  -90.335695    3.0   \n",
       "\n",
       "   review_count  is_open                                         categories  \n",
       "0             7        0  Doctors, Traditional Chinese Medicine, Naturop...  \n",
       "1            15        1  Shipping Centers, Local Services, Notaries, Ma...  "
      ]
     },
     "execution_count": 3,
     "metadata": {},
     "output_type": "execute_result"
    }
   ],
   "source": [
    "df_business_yelp.head(2)"
   ]
  },
  {
   "cell_type": "code",
   "execution_count": 4,
   "metadata": {},
   "outputs": [
    {
     "data": {
      "text/plain": [
       "(7094185, 16)"
      ]
     },
     "execution_count": 4,
     "metadata": {},
     "output_type": "execute_result"
    }
   ],
   "source": [
    "df_business_yelp.shape"
   ]
  },
  {
   "cell_type": "code",
   "execution_count": 5,
   "metadata": {},
   "outputs": [
    {
     "name": "stdout",
     "output_type": "stream",
     "text": [
      "Conteo de estados:\n",
      "PA    1596169\n",
      "FL    1246134\n",
      "TN     572672\n",
      "IN     524743\n",
      "MO     510802\n",
      "Name: state, dtype: int64\n"
     ]
    }
   ],
   "source": [
    "# Supongamos que tienes un DataFrame llamado df que contiene las columnas 'state' y 'city'\n",
    "\n",
    "conteo_state = df_business_yelp['state'].value_counts().head(5)\n",
    "conteo_city = df_business_yelp['city'].value_counts().head(5)\n",
    "conteo_atribute = df_business_yelp['attribute'].value_counts().head(5)\n",
    "conteo_category = df_business_yelp['categories'].value_counts().head(5)\n",
    "print(\"Conteo de estados:\")\n",
    "print(conteo_state)"
   ]
  },
  {
   "cell_type": "code",
   "execution_count": 6,
   "metadata": {},
   "outputs": [
    {
     "name": "stdout",
     "output_type": "stream",
     "text": [
      "\n",
      "Conteo de ciudades:\n",
      "Philadelphia    725905\n",
      "Tampa           431402\n",
      "Indianapolis    381895\n",
      "Tucson          376889\n",
      "Nashville       349468\n",
      "Name: city, dtype: int64\n"
     ]
    }
   ],
   "source": [
    "print(\"\\nConteo de ciudades:\")\n",
    "print(conteo_city)"
   ]
  },
  {
   "cell_type": "code",
   "execution_count": 7,
   "metadata": {},
   "outputs": [
    {
     "name": "stdout",
     "output_type": "stream",
     "text": [
      "Conteo de atributos\n",
      "BusinessAcceptsCreditCards    680843\n",
      "BusinessParking               520445\n",
      "RestaurantsPriceRange2        486761\n",
      "BikeParking                   429623\n",
      "RestaurantsTakeOut            353636\n",
      "Name: attribute, dtype: int64\n"
     ]
    }
   ],
   "source": [
    "print(\"Conteo de atributos\")\n",
    "print(conteo_atribute)"
   ]
  },
  {
   "cell_type": "code",
   "execution_count": 8,
   "metadata": {},
   "outputs": [
    {
     "name": "stdout",
     "output_type": "stream",
     "text": [
      "Conteo de categorias:\n",
      "Restaurants, Pizza      64094\n",
      "Restaurants, Mexican    61944\n",
      "Mexican, Restaurants    56063\n",
      "Pizza, Restaurants      55861\n",
      "Restaurants, Chinese    52431\n",
      "Name: categories, dtype: int64\n"
     ]
    }
   ],
   "source": [
    "print(\"Conteo de categorias:\")\n",
    "print(conteo_category)"
   ]
  },
  {
   "cell_type": "code",
   "execution_count": 9,
   "metadata": {},
   "outputs": [
    {
     "data": {
      "text/plain": [
       "(13356875, 3)"
      ]
     },
     "execution_count": 9,
     "metadata": {},
     "output_type": "execute_result"
    }
   ],
   "source": [
    "df_checkin_yelp.shape"
   ]
  },
  {
   "cell_type": "code",
   "execution_count": 10,
   "metadata": {},
   "outputs": [
    {
     "data": {
      "text/html": [
       "<div>\n",
       "<style scoped>\n",
       "    .dataframe tbody tr th:only-of-type {\n",
       "        vertical-align: middle;\n",
       "    }\n",
       "\n",
       "    .dataframe tbody tr th {\n",
       "        vertical-align: top;\n",
       "    }\n",
       "\n",
       "    .dataframe thead th {\n",
       "        text-align: right;\n",
       "    }\n",
       "</style>\n",
       "<table border=\"1\" class=\"dataframe\">\n",
       "  <thead>\n",
       "    <tr style=\"text-align: right;\">\n",
       "      <th></th>\n",
       "      <th>business_id</th>\n",
       "      <th>date</th>\n",
       "      <th>hour</th>\n",
       "    </tr>\n",
       "  </thead>\n",
       "  <tbody>\n",
       "    <tr>\n",
       "      <th>0</th>\n",
       "      <td>---kPU91CF4Lq2-WlRu9Lw</td>\n",
       "      <td>2020-03-13</td>\n",
       "      <td>21:10:56</td>\n",
       "    </tr>\n",
       "    <tr>\n",
       "      <th>1</th>\n",
       "      <td>---kPU91CF4Lq2-WlRu9Lw</td>\n",
       "      <td>2020-06-02</td>\n",
       "      <td>22:18:06</td>\n",
       "    </tr>\n",
       "  </tbody>\n",
       "</table>\n",
       "</div>"
      ],
      "text/plain": [
       "              business_id        date      hour\n",
       "0  ---kPU91CF4Lq2-WlRu9Lw  2020-03-13  21:10:56\n",
       "1  ---kPU91CF4Lq2-WlRu9Lw  2020-06-02  22:18:06"
      ]
     },
     "execution_count": 10,
     "metadata": {},
     "output_type": "execute_result"
    }
   ],
   "source": [
    "df_checkin_yelp.head(2)"
   ]
  },
  {
   "cell_type": "code",
   "execution_count": 11,
   "metadata": {},
   "outputs": [
    {
     "name": "stdout",
     "output_type": "stream",
     "text": [
      "Conteo de id:\n",
      "-QI8Qi8XWH3D8y8ethnajA    52144\n",
      "FEXhWNCMkv22qG04E83Qjg    40109\n",
      "Eb1XmmLWyt_way5NNZ7-Pw    37562\n",
      "c_4c5rJECZSfNgFj7frwHQ    37518\n",
      "4i4kmYm9wgSNyF1b6gKphg    31168\n",
      "Name: business_id, dtype: int64\n"
     ]
    }
   ],
   "source": [
    "conteo_id = df_checkin_yelp['business_id'].value_counts().head(5)\n",
    "print(\"Conteo de id:\")\n",
    "print(conteo_id)"
   ]
  },
  {
   "cell_type": "code",
   "execution_count": 31,
   "metadata": {},
   "outputs": [
    {
     "data": {
      "text/html": [
       "<div>\n",
       "<style scoped>\n",
       "    .dataframe tbody tr th:only-of-type {\n",
       "        vertical-align: middle;\n",
       "    }\n",
       "\n",
       "    .dataframe tbody tr th {\n",
       "        vertical-align: top;\n",
       "    }\n",
       "\n",
       "    .dataframe thead th {\n",
       "        text-align: right;\n",
       "    }\n",
       "</style>\n",
       "<table border=\"1\" class=\"dataframe\">\n",
       "  <thead>\n",
       "    <tr style=\"text-align: right;\">\n",
       "      <th></th>\n",
       "      <th>user_id</th>\n",
       "      <th>business_id</th>\n",
       "      <th>text</th>\n",
       "      <th>date</th>\n",
       "      <th>compliment_count</th>\n",
       "    </tr>\n",
       "  </thead>\n",
       "  <tbody>\n",
       "    <tr>\n",
       "      <th>1644</th>\n",
       "      <td>SNZJNz1WEIMECEk-TAYADQ</td>\n",
       "      <td>6Gx45ltNNZvjzVBO6ZgVOg</td>\n",
       "      <td>Great food, fun place!</td>\n",
       "      <td>2017-10-10 20:13:08</td>\n",
       "      <td>0</td>\n",
       "    </tr>\n",
       "    <tr>\n",
       "      <th>11367</th>\n",
       "      <td>00Cz_vdInMHpTRjqbWjK5Q</td>\n",
       "      <td>ncacMQ9n_dSM1cR3c1vTQw</td>\n",
       "      <td>Miss saigon</td>\n",
       "      <td>2010-12-07 01:59:12</td>\n",
       "      <td>0</td>\n",
       "    </tr>\n",
       "  </tbody>\n",
       "</table>\n",
       "</div>"
      ],
      "text/plain": [
       "                      user_id             business_id                    text  \\\n",
       "1644   SNZJNz1WEIMECEk-TAYADQ  6Gx45ltNNZvjzVBO6ZgVOg  Great food, fun place!   \n",
       "11367  00Cz_vdInMHpTRjqbWjK5Q  ncacMQ9n_dSM1cR3c1vTQw             Miss saigon   \n",
       "\n",
       "                      date  compliment_count  \n",
       "1644   2017-10-10 20:13:08                 0  \n",
       "11367  2010-12-07 01:59:12                 0  "
      ]
     },
     "execution_count": 31,
     "metadata": {},
     "output_type": "execute_result"
    }
   ],
   "source": [
    "df_tip_yelp.head(2)"
   ]
  },
  {
   "cell_type": "code",
   "execution_count": 32,
   "metadata": {},
   "outputs": [
    {
     "data": {
      "text/plain": [
       "(59, 5)"
      ]
     },
     "execution_count": 32,
     "metadata": {},
     "output_type": "execute_result"
    }
   ],
   "source": [
    "df_tip_yelp.shape"
   ]
  }
 ],
 "metadata": {
  "kernelspec": {
   "display_name": "Python 3",
   "language": "python",
   "name": "python3"
  },
  "language_info": {
   "codemirror_mode": {
    "name": "ipython",
    "version": 3
   },
   "file_extension": ".py",
   "mimetype": "text/x-python",
   "name": "python",
   "nbconvert_exporter": "python",
   "pygments_lexer": "ipython3",
   "version": "3.10.8"
  },
  "orig_nbformat": 4
 },
 "nbformat": 4,
 "nbformat_minor": 2
}
