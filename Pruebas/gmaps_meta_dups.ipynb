{
 "cells": [
  {
   "cell_type": "code",
   "execution_count": 1,
   "metadata": {},
   "outputs": [],
   "source": [
    "import os\n",
    "import json\n",
    "from datetime import datetime\n",
    "import pandas as pd"
   ]
  },
  {
   "cell_type": "code",
   "execution_count": 2,
   "metadata": {},
   "outputs": [],
   "source": [
    "# modificar segun entorno local\n",
    "os.chdir(\"/Volumes/hd_mvf_datasets/henry_data\")\n",
    "\n",
    "# no modificar\n",
    "folder_data = \"1_external\"\n",
    "folder_pipeline = \"2_pipeline\"\n",
    "folder_output = \"3_output\"\n",
    "folder_gmaps = \"gmaps\"\n",
    "folder_metadata = \"metadata-sitios\""
   ]
  },
  {
   "cell_type": "code",
   "execution_count": 4,
   "metadata": {},
   "outputs": [
    {
     "name": "stdout",
     "output_type": "stream",
     "text": [
      "<class 'pandas.core.frame.DataFrame'>\n",
      "Index: 441868 entries, 11 to 3024974\n",
      "Data columns (total 16 columns):\n",
      " #   Column            Non-Null Count   Dtype  \n",
      "---  ------            --------------   -----  \n",
      " 0   name              441868 non-null  object \n",
      " 1   address           439290 non-null  object \n",
      " 2   gmap_id           441868 non-null  object \n",
      " 3   description       197047 non-null  object \n",
      " 4   latitude          441868 non-null  float64\n",
      " 5   longitude         441868 non-null  float64\n",
      " 6   category          441868 non-null  object \n",
      " 7   avg_rating        441868 non-null  float64\n",
      " 8   num_of_reviews    441868 non-null  int64  \n",
      " 9   price             244781 non-null  object \n",
      " 10  hours             401547 non-null  object \n",
      " 11  MISC              436358 non-null  object \n",
      " 12  state             402667 non-null  object \n",
      " 13  relative_results  371024 non-null  object \n",
      " 14  url               441868 non-null  object \n",
      " 15  estado_categoria  441868 non-null  object \n",
      "dtypes: float64(3), int64(1), object(12)\n",
      "memory usage: 57.3+ MB\n"
     ]
    },
    {
     "data": {
      "text/html": [
       "<div>\n",
       "<style scoped>\n",
       "    .dataframe tbody tr th:only-of-type {\n",
       "        vertical-align: middle;\n",
       "    }\n",
       "\n",
       "    .dataframe tbody tr th {\n",
       "        vertical-align: top;\n",
       "    }\n",
       "\n",
       "    .dataframe thead th {\n",
       "        text-align: right;\n",
       "    }\n",
       "</style>\n",
       "<table border=\"1\" class=\"dataframe\">\n",
       "  <thead>\n",
       "    <tr style=\"text-align: right;\">\n",
       "      <th></th>\n",
       "      <th>name</th>\n",
       "      <th>address</th>\n",
       "      <th>gmap_id</th>\n",
       "      <th>description</th>\n",
       "      <th>latitude</th>\n",
       "      <th>longitude</th>\n",
       "      <th>category</th>\n",
       "      <th>avg_rating</th>\n",
       "      <th>num_of_reviews</th>\n",
       "      <th>price</th>\n",
       "      <th>hours</th>\n",
       "      <th>MISC</th>\n",
       "      <th>state</th>\n",
       "      <th>relative_results</th>\n",
       "      <th>url</th>\n",
       "      <th>estado_categoria</th>\n",
       "    </tr>\n",
       "  </thead>\n",
       "  <tbody>\n",
       "    <tr>\n",
       "      <th>11</th>\n",
       "      <td>The Jambalaya Shoppe</td>\n",
       "      <td>The Jambalaya Shoppe, 2108 W Thomas St A, Hamm...</td>\n",
       "      <td>0x862722f48f2b47ef:0x2d579bd17f79bf9b</td>\n",
       "      <td>Casual eatery known for its jambalaya &amp; other ...</td>\n",
       "      <td>30.501556</td>\n",
       "      <td>-90.484082</td>\n",
       "      <td>cajun restaurant</td>\n",
       "      <td>4.0</td>\n",
       "      <td>248</td>\n",
       "      <td>$</td>\n",
       "      <td>[[Wednesday, 10:30AM–8PM], [Thursday, 10:30AM–...</td>\n",
       "      <td>{'Service options': ['Outdoor seating', 'Curbs...</td>\n",
       "      <td>Open ⋅ Closes 8PM</td>\n",
       "      <td>[0x862722fdf07aed77:0xb2269b9a8a44a51b, 0x8627...</td>\n",
       "      <td>https://www.google.com/maps/place//data=!4m2!3...</td>\n",
       "      <td>Open</td>\n",
       "    </tr>\n",
       "    <tr>\n",
       "      <th>11</th>\n",
       "      <td>The Jambalaya Shoppe</td>\n",
       "      <td>The Jambalaya Shoppe, 2108 W Thomas St A, Hamm...</td>\n",
       "      <td>0x862722f48f2b47ef:0x2d579bd17f79bf9b</td>\n",
       "      <td>Casual eatery known for its jambalaya &amp; other ...</td>\n",
       "      <td>30.501556</td>\n",
       "      <td>-90.484082</td>\n",
       "      <td>restaurant</td>\n",
       "      <td>4.0</td>\n",
       "      <td>248</td>\n",
       "      <td>$</td>\n",
       "      <td>[[Wednesday, 10:30AM–8PM], [Thursday, 10:30AM–...</td>\n",
       "      <td>{'Service options': ['Outdoor seating', 'Curbs...</td>\n",
       "      <td>Open ⋅ Closes 8PM</td>\n",
       "      <td>[0x862722fdf07aed77:0xb2269b9a8a44a51b, 0x8627...</td>\n",
       "      <td>https://www.google.com/maps/place//data=!4m2!3...</td>\n",
       "      <td>Open</td>\n",
       "    </tr>\n",
       "  </tbody>\n",
       "</table>\n",
       "</div>"
      ],
      "text/plain": [
       "                    name                                            address  \\\n",
       "11  The Jambalaya Shoppe  The Jambalaya Shoppe, 2108 W Thomas St A, Hamm...   \n",
       "11  The Jambalaya Shoppe  The Jambalaya Shoppe, 2108 W Thomas St A, Hamm...   \n",
       "\n",
       "                                  gmap_id  \\\n",
       "11  0x862722f48f2b47ef:0x2d579bd17f79bf9b   \n",
       "11  0x862722f48f2b47ef:0x2d579bd17f79bf9b   \n",
       "\n",
       "                                          description   latitude  longitude  \\\n",
       "11  Casual eatery known for its jambalaya & other ...  30.501556 -90.484082   \n",
       "11  Casual eatery known for its jambalaya & other ...  30.501556 -90.484082   \n",
       "\n",
       "            category  avg_rating  num_of_reviews price  \\\n",
       "11  cajun restaurant         4.0             248     $   \n",
       "11        restaurant         4.0             248     $   \n",
       "\n",
       "                                                hours  \\\n",
       "11  [[Wednesday, 10:30AM–8PM], [Thursday, 10:30AM–...   \n",
       "11  [[Wednesday, 10:30AM–8PM], [Thursday, 10:30AM–...   \n",
       "\n",
       "                                                 MISC              state  \\\n",
       "11  {'Service options': ['Outdoor seating', 'Curbs...  Open ⋅ Closes 8PM   \n",
       "11  {'Service options': ['Outdoor seating', 'Curbs...  Open ⋅ Closes 8PM   \n",
       "\n",
       "                                     relative_results  \\\n",
       "11  [0x862722fdf07aed77:0xb2269b9a8a44a51b, 0x8627...   \n",
       "11  [0x862722fdf07aed77:0xb2269b9a8a44a51b, 0x8627...   \n",
       "\n",
       "                                                  url estado_categoria  \n",
       "11  https://www.google.com/maps/place//data=!4m2!3...             Open  \n",
       "11  https://www.google.com/maps/place//data=!4m2!3...             Open  "
      ]
     },
     "execution_count": 4,
     "metadata": {},
     "output_type": "execute_result"
    }
   ],
   "source": [
    "data_gmaps_metadata = pd.read_pickle(\n",
    "    os.path.join(folder_data,folder_gmaps,folder_metadata,'gmaps_metadata_filtrado.pkl'))\n",
    "data_gmaps_metadata.info()\n",
    "data_gmaps_metadata.head(2)"
   ]
  },
  {
   "cell_type": "code",
   "execution_count": 6,
   "metadata": {},
   "outputs": [
    {
     "ename": "TypeError",
     "evalue": "unhashable type: 'list'",
     "output_type": "error",
     "traceback": [
      "\u001b[0;31m---------------------------------------------------------------------------\u001b[0m",
      "\u001b[0;31mTypeError\u001b[0m                                 Traceback (most recent call last)",
      "\u001b[1;32mUntitled-1.ipynb Cell 4\u001b[0m line \u001b[0;36m2\n\u001b[1;32m      <a href='vscode-notebook-cell:Untitled-1.ipynb?jupyter-notebook#W3sdW50aXRsZWQ%3D?line=0'>1</a>\u001b[0m data_gmaps_metadata_hoursna \u001b[39m=\u001b[39m data_gmaps_metadata\u001b[39m.\u001b[39mdropna(subset\u001b[39m=\u001b[39m[\u001b[39m'\u001b[39m\u001b[39mhours\u001b[39m\u001b[39m'\u001b[39m])\u001b[39m.\u001b[39mcopy()\n\u001b[0;32m----> <a href='vscode-notebook-cell:Untitled-1.ipynb?jupyter-notebook#W3sdW50aXRsZWQ%3D?line=1'>2</a>\u001b[0m out \u001b[39m=\u001b[39m data_gmaps_metadata_hoursna[data_gmaps_metadata_hoursna\u001b[39m.\u001b[39;49massign(hours\u001b[39m=\u001b[39;49m data_gmaps_metadata_hoursna[\u001b[39m'\u001b[39;49m\u001b[39mhours\u001b[39;49m\u001b[39m'\u001b[39;49m]\u001b[39m.\u001b[39;49mmap(\u001b[39mtuple\u001b[39;49m))\u001b[39m.\u001b[39;49mduplicated(keep\u001b[39m=\u001b[39;49m\u001b[39mFalse\u001b[39;49;00m)]\n",
      "File \u001b[0;32m~/anaconda3/envs/pandas_gis/lib/python3.10/site-packages/pandas/core/frame.py:6662\u001b[0m, in \u001b[0;36mDataFrame.duplicated\u001b[0;34m(self, subset, keep)\u001b[0m\n\u001b[1;32m   6660\u001b[0m \u001b[39melse\u001b[39;00m:\n\u001b[1;32m   6661\u001b[0m     vals \u001b[39m=\u001b[39m (col\u001b[39m.\u001b[39mvalues \u001b[39mfor\u001b[39;00m name, col \u001b[39min\u001b[39;00m \u001b[39mself\u001b[39m\u001b[39m.\u001b[39mitems() \u001b[39mif\u001b[39;00m name \u001b[39min\u001b[39;00m subset)\n\u001b[0;32m-> 6662\u001b[0m     labels, shape \u001b[39m=\u001b[39m \u001b[39mmap\u001b[39m(\u001b[39mlist\u001b[39m, \u001b[39mzip\u001b[39;49m(\u001b[39m*\u001b[39;49m\u001b[39mmap\u001b[39;49m(f, vals)))\n\u001b[1;32m   6664\u001b[0m     ids \u001b[39m=\u001b[39m get_group_index(\n\u001b[1;32m   6665\u001b[0m         labels,\n\u001b[1;32m   6666\u001b[0m         \u001b[39m# error: Argument 1 to \"tuple\" has incompatible type \"List[_T]\";\u001b[39;00m\n\u001b[0;32m   (...)\u001b[0m\n\u001b[1;32m   6670\u001b[0m         xnull\u001b[39m=\u001b[39m\u001b[39mFalse\u001b[39;00m,\n\u001b[1;32m   6671\u001b[0m     )\n\u001b[1;32m   6672\u001b[0m     result \u001b[39m=\u001b[39m \u001b[39mself\u001b[39m\u001b[39m.\u001b[39m_constructor_sliced(duplicated(ids, keep), index\u001b[39m=\u001b[39m\u001b[39mself\u001b[39m\u001b[39m.\u001b[39mindex)\n",
      "File \u001b[0;32m~/anaconda3/envs/pandas_gis/lib/python3.10/site-packages/pandas/core/frame.py:6630\u001b[0m, in \u001b[0;36mDataFrame.duplicated.<locals>.f\u001b[0;34m(vals)\u001b[0m\n\u001b[1;32m   6629\u001b[0m \u001b[39mdef\u001b[39;00m \u001b[39mf\u001b[39m(vals) \u001b[39m-\u001b[39m\u001b[39m>\u001b[39m \u001b[39mtuple\u001b[39m[np\u001b[39m.\u001b[39mndarray, \u001b[39mint\u001b[39m]:\n\u001b[0;32m-> 6630\u001b[0m     labels, shape \u001b[39m=\u001b[39m algorithms\u001b[39m.\u001b[39;49mfactorize(vals, size_hint\u001b[39m=\u001b[39;49m\u001b[39mlen\u001b[39;49m(\u001b[39mself\u001b[39;49m))\n\u001b[1;32m   6631\u001b[0m     \u001b[39mreturn\u001b[39;00m labels\u001b[39m.\u001b[39mastype(\u001b[39m\"\u001b[39m\u001b[39mi8\u001b[39m\u001b[39m\"\u001b[39m, copy\u001b[39m=\u001b[39m\u001b[39mFalse\u001b[39;00m), \u001b[39mlen\u001b[39m(shape)\n",
      "File \u001b[0;32m~/anaconda3/envs/pandas_gis/lib/python3.10/site-packages/pandas/core/algorithms.py:780\u001b[0m, in \u001b[0;36mfactorize\u001b[0;34m(values, sort, use_na_sentinel, size_hint)\u001b[0m\n\u001b[1;32m    777\u001b[0m             \u001b[39m# Don't modify (potentially user-provided) array\u001b[39;00m\n\u001b[1;32m    778\u001b[0m             values \u001b[39m=\u001b[39m np\u001b[39m.\u001b[39mwhere(null_mask, na_value, values)\n\u001b[0;32m--> 780\u001b[0m     codes, uniques \u001b[39m=\u001b[39m factorize_array(\n\u001b[1;32m    781\u001b[0m         values,\n\u001b[1;32m    782\u001b[0m         use_na_sentinel\u001b[39m=\u001b[39;49muse_na_sentinel,\n\u001b[1;32m    783\u001b[0m         size_hint\u001b[39m=\u001b[39;49msize_hint,\n\u001b[1;32m    784\u001b[0m     )\n\u001b[1;32m    786\u001b[0m \u001b[39mif\u001b[39;00m sort \u001b[39mand\u001b[39;00m \u001b[39mlen\u001b[39m(uniques) \u001b[39m>\u001b[39m \u001b[39m0\u001b[39m:\n\u001b[1;32m    787\u001b[0m     uniques, codes \u001b[39m=\u001b[39m safe_sort(\n\u001b[1;32m    788\u001b[0m         uniques,\n\u001b[1;32m    789\u001b[0m         codes,\n\u001b[0;32m   (...)\u001b[0m\n\u001b[1;32m    792\u001b[0m         verify\u001b[39m=\u001b[39m\u001b[39mFalse\u001b[39;00m,\n\u001b[1;32m    793\u001b[0m     )\n",
      "File \u001b[0;32m~/anaconda3/envs/pandas_gis/lib/python3.10/site-packages/pandas/core/algorithms.py:581\u001b[0m, in \u001b[0;36mfactorize_array\u001b[0;34m(values, use_na_sentinel, size_hint, na_value, mask)\u001b[0m\n\u001b[1;32m    578\u001b[0m hash_klass, values \u001b[39m=\u001b[39m _get_hashtable_algo(values)\n\u001b[1;32m    580\u001b[0m table \u001b[39m=\u001b[39m hash_klass(size_hint \u001b[39mor\u001b[39;00m \u001b[39mlen\u001b[39m(values))\n\u001b[0;32m--> 581\u001b[0m uniques, codes \u001b[39m=\u001b[39m table\u001b[39m.\u001b[39;49mfactorize(\n\u001b[1;32m    582\u001b[0m     values,\n\u001b[1;32m    583\u001b[0m     na_sentinel\u001b[39m=\u001b[39;49m\u001b[39m-\u001b[39;49m\u001b[39m1\u001b[39;49m,\n\u001b[1;32m    584\u001b[0m     na_value\u001b[39m=\u001b[39;49mna_value,\n\u001b[1;32m    585\u001b[0m     mask\u001b[39m=\u001b[39;49mmask,\n\u001b[1;32m    586\u001b[0m     ignore_na\u001b[39m=\u001b[39;49muse_na_sentinel,\n\u001b[1;32m    587\u001b[0m )\n\u001b[1;32m    589\u001b[0m \u001b[39m# re-cast e.g. i8->dt64/td64, uint8->bool\u001b[39;00m\n\u001b[1;32m    590\u001b[0m uniques \u001b[39m=\u001b[39m _reconstruct_data(uniques, original\u001b[39m.\u001b[39mdtype, original)\n",
      "File \u001b[0;32mpandas/_libs/hashtable_class_helper.pxi:7280\u001b[0m, in \u001b[0;36mpandas._libs.hashtable.PyObjectHashTable.factorize\u001b[0;34m()\u001b[0m\n",
      "File \u001b[0;32mpandas/_libs/hashtable_class_helper.pxi:7194\u001b[0m, in \u001b[0;36mpandas._libs.hashtable.PyObjectHashTable._unique\u001b[0;34m()\u001b[0m\n",
      "\u001b[0;31mTypeError\u001b[0m: unhashable type: 'list'"
     ]
    }
   ],
   "source": [
    "data_gmaps_metadata_hoursna = data_gmaps_metadata.dropna(subset=['hours']).copy()\n",
    "data_gmaps_metadata_hoursna_explded = data_gmaps_metadata_hoursna.explode\n",
    "out = data_gmaps_metadata_hoursna[data_gmaps_metadata_hoursna.assign(hours= data_gmaps_metadata_hoursna['hours'].map(tuple)).duplicated(keep=False)]"
   ]
  }
 ],
 "metadata": {
  "kernelspec": {
   "display_name": "pandas_gis",
   "language": "python",
   "name": "python3"
  },
  "language_info": {
   "codemirror_mode": {
    "name": "ipython",
    "version": 3
   },
   "file_extension": ".py",
   "mimetype": "text/x-python",
   "name": "python",
   "nbconvert_exporter": "python",
   "pygments_lexer": "ipython3",
   "version": "3.10.13"
  }
 },
 "nbformat": 4,
 "nbformat_minor": 2
}
