{
 "cells": [
  {
   "cell_type": "code",
   "execution_count": 1,
   "metadata": {},
   "outputs": [
    {
     "name": "stdout",
     "output_type": "stream",
     "text": [
      "2.6.0\n"
     ]
    }
   ],
   "source": [
    "import json\n",
    "#from google.colab import files # solo para google collab\n",
    "from google.cloud import storage\n",
    "import pandas as pd\n",
    "print(storage.__version__)"
   ]
  },
  {
   "cell_type": "code",
   "execution_count": 2,
   "metadata": {},
   "outputs": [],
   "source": [
    "# google collab\n",
    "#path_api_key = '/content/extreme-unison-399121-cadd77c555ca.json'\n",
    "\n",
    "# entorno local\n",
    "path_api_key = '/Users/manuel/gdrive/prgrmmng/gcloud_api_key/extreme-unison-399121-cadd77c555ca.json'\n",
    "\n",
    "# extraigo las credenciales para el acceso\n",
    "service_account_info = json.load(open(path_api_key))\n",
    "\n",
    "# autorizo el acceso a cloud storage\n",
    "client_storage = storage.Client.from_service_account_info(service_account_info)"
   ]
  },
  {
   "cell_type": "code",
   "execution_count": 3,
   "metadata": {},
   "outputs": [
    {
     "name": "stdout",
     "output_type": "stream",
     "text": [
      "<class 'pandas.core.frame.DataFrame'>\n",
      "RangeIndex: 350619 entries, 0 to 350618\n",
      "Data columns (total 20 columns):\n",
      " #   Column           Non-Null Count   Dtype  \n",
      "---  ------           --------------   -----  \n",
      " 0   gmap_id          350619 non-null  object \n",
      " 1   name             350619 non-null  object \n",
      " 2   address          348705 non-null  object \n",
      " 3   description      144867 non-null  object \n",
      " 4   latitude         350619 non-null  float64\n",
      " 5   longitude        350619 non-null  float64\n",
      " 6   category         350619 non-null  object \n",
      " 7   avg_rating       350619 non-null  float64\n",
      " 8   num_of_reviews   350619 non-null  int64  \n",
      " 9   price            190566 non-null  object \n",
      " 10  hours-state_cat  350619 non-null  object \n",
      " 11  hours            306829 non-null  object \n",
      " 12  MISC             345712 non-null  object \n",
      " 13  geo_point        350619 non-null  object \n",
      " 14  zcta5_geoid      350619 non-null  object \n",
      " 15  geo_looker       350619 non-null  object \n",
      " 16  us_continente    350619 non-null  int64  \n",
      " 17  state_name       350618 non-null  object \n",
      " 18  state_code       350618 non-null  object \n",
      " 19  county_name      350618 non-null  object \n",
      "dtypes: float64(3), int64(2), object(15)\n",
      "memory usage: 53.5+ MB\n"
     ]
    }
   ],
   "source": [
    "# carga de datos\n",
    "# unicamente para .py en VM:\n",
    "#data_gmaps_reviews_norm = pd.read_parquet('gs://1_transform/data_gmaps_reviews_norm.parquet')\n",
    "\n",
    "# para entorno Google Colab o maquina local:\n",
    "\n",
    "# cambiar segun bucket\n",
    "bucket = client_storage.get_bucket('1_transform')\n",
    "\n",
    "# cambiar segun dataframe\n",
    "data_blob = bucket.blob('gmaps_metadata_filtrado.parquet')\n",
    "data_gmaps_metadata = pd.read_parquet(storage.fileio.BlobReader(data_blob))\n",
    "data_gmaps_metadata.info()"
   ]
  }
 ],
 "metadata": {
  "kernelspec": {
   "display_name": "pandas_scikit",
   "language": "python",
   "name": "python3"
  },
  "language_info": {
   "codemirror_mode": {
    "name": "ipython",
    "version": 3
   },
   "file_extension": ".py",
   "mimetype": "text/x-python",
   "name": "python",
   "nbconvert_exporter": "python",
   "pygments_lexer": "ipython3",
   "version": "3.10.13"
  }
 },
 "nbformat": 4,
 "nbformat_minor": 2
}
