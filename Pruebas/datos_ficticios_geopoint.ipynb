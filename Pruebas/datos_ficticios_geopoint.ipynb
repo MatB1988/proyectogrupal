{
 "cells": [
  {
   "cell_type": "code",
   "execution_count": 1,
   "metadata": {},
   "outputs": [],
   "source": [
    "import os\n",
    "import json\n",
    "import pandas as pd"
   ]
  },
  {
   "cell_type": "code",
   "execution_count": 5,
   "metadata": {},
   "outputs": [
    {
     "name": "stdout",
     "output_type": "stream",
     "text": [
      "storage == 2.6.0\n"
     ]
    }
   ],
   "source": [
    "#from google.colab import files # solo para google collab\n",
    "from google.cloud import storage\n",
    "import pandas as pd\n",
    "print(\"storage ==\",storage.__version__)\n",
    "\n",
    "# entorno local\n",
    "path_api_key = '/Users/manuel/gdrive/prgrmmng/gcloud_api_key/extreme-unison-399121-cadd77c555ca.json'\n",
    "\n",
    "# extraigo las credenciales para el acceso\n",
    "service_account_info = json.load(open(path_api_key))\n",
    "\n",
    "# autorizo el acceso a cloud storage\n",
    "client_storage = storage.Client.from_service_account_info(service_account_info)\n",
    "\n",
    "# para entorno Google Colab o maquina local:\n",
    "bucket = client_storage.get_bucket('3_output')\n",
    "data_blob = bucket.blob('data_output_lookerstudio.csv')\n",
    "data_output_lookerstudio = pd.read_csv(storage.fileio.BlobReader(data_blob),index_col=0)"
   ]
  },
  {
   "cell_type": "code",
   "execution_count": 7,
   "metadata": {},
   "outputs": [
    {
     "name": "stdout",
     "output_type": "stream",
     "text": [
      "<class 'pandas.core.frame.DataFrame'>\n",
      "Index: 120000 entries, 0 to 119999\n",
      "Data columns (total 20 columns):\n",
      " #   Column                     Non-Null Count   Dtype  \n",
      "---  ------                     --------------   -----  \n",
      " 0   kpi_1_satisfaccion         120000 non-null  float64\n",
      " 1   kpi_2_popularidad          120000 non-null  float64\n",
      " 2   kpi_3_lealtad              120000 non-null  float64\n",
      " 3   cluster1_area              120000 non-null  object \n",
      " 4   cluster2_atributos         120000 non-null  object \n",
      " 5   perfil_calificacion_yelp   120000 non-null  float64\n",
      " 6   perfil_calificacion_gmaps  120000 non-null  float64\n",
      " 7   perfil_nombre              120000 non-null  object \n",
      " 8   perfil_direccion           120000 non-null  object \n",
      " 9   perfil_tipo                120000 non-null  object \n",
      " 10  perfil_otros               120000 non-null  object \n",
      " 11  kpi_4_indice               120000 non-null  float64\n",
      " 12  business_id                120000 non-null  object \n",
      " 13  latitude                   120000 non-null  float64\n",
      " 14  longitude                  120000 non-null  float64\n",
      " 15  state_name                 120000 non-null  object \n",
      " 16  state_usps                 120000 non-null  object \n",
      " 17  county_name                120000 non-null  object \n",
      " 18  geo_looker                 120000 non-null  object \n",
      " 19  geo_point                  120000 non-null  object \n",
      "dtypes: float64(8), object(12)\n",
      "memory usage: 19.2+ MB\n"
     ]
    },
    {
     "data": {
      "text/html": [
       "<div>\n",
       "<style scoped>\n",
       "    .dataframe tbody tr th:only-of-type {\n",
       "        vertical-align: middle;\n",
       "    }\n",
       "\n",
       "    .dataframe tbody tr th {\n",
       "        vertical-align: top;\n",
       "    }\n",
       "\n",
       "    .dataframe thead th {\n",
       "        text-align: right;\n",
       "    }\n",
       "</style>\n",
       "<table border=\"1\" class=\"dataframe\">\n",
       "  <thead>\n",
       "    <tr style=\"text-align: right;\">\n",
       "      <th></th>\n",
       "      <th>kpi_1_satisfaccion</th>\n",
       "      <th>kpi_2_popularidad</th>\n",
       "      <th>kpi_3_lealtad</th>\n",
       "      <th>cluster1_area</th>\n",
       "      <th>cluster2_atributos</th>\n",
       "      <th>perfil_calificacion_yelp</th>\n",
       "      <th>perfil_calificacion_gmaps</th>\n",
       "      <th>perfil_nombre</th>\n",
       "      <th>perfil_direccion</th>\n",
       "      <th>perfil_tipo</th>\n",
       "      <th>perfil_otros</th>\n",
       "      <th>kpi_4_indice</th>\n",
       "      <th>business_id</th>\n",
       "      <th>latitude</th>\n",
       "      <th>longitude</th>\n",
       "      <th>state_name</th>\n",
       "      <th>state_usps</th>\n",
       "      <th>county_name</th>\n",
       "      <th>geo_looker</th>\n",
       "      <th>geo_point</th>\n",
       "    </tr>\n",
       "  </thead>\n",
       "  <tbody>\n",
       "    <tr>\n",
       "      <th>0</th>\n",
       "      <td>75.347841</td>\n",
       "      <td>48.746551</td>\n",
       "      <td>64.705634</td>\n",
       "      <td>clstr_area_a</td>\n",
       "      <td>clstr_atributo_a</td>\n",
       "      <td>66.294855</td>\n",
       "      <td>57.878909</td>\n",
       "      <td>lbitrnggft</td>\n",
       "      <td>uuiyxjtebp</td>\n",
       "      <td>comida_a</td>\n",
       "      <td>ynuumpjgxp</td>\n",
       "      <td>64.174792</td>\n",
       "      <td>s8PAlOSo7_S9PAkzakoIIA</td>\n",
       "      <td>39.529122</td>\n",
       "      <td>-119.813785</td>\n",
       "      <td>nevada</td>\n",
       "      <td>NV</td>\n",
       "      <td>washoe county</td>\n",
       "      <td>39.5291224,-119.8137852</td>\n",
       "      <td>POINT(-119.8137852 39.5291224)</td>\n",
       "    </tr>\n",
       "    <tr>\n",
       "      <th>1</th>\n",
       "      <td>52.324089</td>\n",
       "      <td>72.545789</td>\n",
       "      <td>79.663139</td>\n",
       "      <td>clstr_area_a</td>\n",
       "      <td>clstr_atributo_a</td>\n",
       "      <td>37.388390</td>\n",
       "      <td>40.874485</td>\n",
       "      <td>uryasjozmn</td>\n",
       "      <td>rsrmtnhvsg</td>\n",
       "      <td>comida_b</td>\n",
       "      <td>fugjdhuflc</td>\n",
       "      <td>66.592314</td>\n",
       "      <td>NcppaKnuJ3u3QtQoCjnUfw</td>\n",
       "      <td>43.615813</td>\n",
       "      <td>-116.273830</td>\n",
       "      <td>idaho</td>\n",
       "      <td>ID</td>\n",
       "      <td>ada county</td>\n",
       "      <td>43.615813,-116.27383</td>\n",
       "      <td>POINT(-116.27383 43.615813)</td>\n",
       "    </tr>\n",
       "  </tbody>\n",
       "</table>\n",
       "</div>"
      ],
      "text/plain": [
       "   kpi_1_satisfaccion  kpi_2_popularidad  kpi_3_lealtad cluster1_area  \\\n",
       "0           75.347841          48.746551      64.705634  clstr_area_a   \n",
       "1           52.324089          72.545789      79.663139  clstr_area_a   \n",
       "\n",
       "  cluster2_atributos  perfil_calificacion_yelp  perfil_calificacion_gmaps  \\\n",
       "0   clstr_atributo_a                 66.294855                  57.878909   \n",
       "1   clstr_atributo_a                 37.388390                  40.874485   \n",
       "\n",
       "  perfil_nombre perfil_direccion perfil_tipo perfil_otros  kpi_4_indice  \\\n",
       "0    lbitrnggft       uuiyxjtebp    comida_a   ynuumpjgxp     64.174792   \n",
       "1    uryasjozmn       rsrmtnhvsg    comida_b   fugjdhuflc     66.592314   \n",
       "\n",
       "              business_id   latitude   longitude state_name state_usps  \\\n",
       "0  s8PAlOSo7_S9PAkzakoIIA  39.529122 -119.813785     nevada         NV   \n",
       "1  NcppaKnuJ3u3QtQoCjnUfw  43.615813 -116.273830      idaho         ID   \n",
       "\n",
       "     county_name               geo_looker                       geo_point  \n",
       "0  washoe county  39.5291224,-119.8137852  POINT(-119.8137852 39.5291224)  \n",
       "1     ada county     43.615813,-116.27383     POINT(-116.27383 43.615813)  "
      ]
     },
     "execution_count": 7,
     "metadata": {},
     "output_type": "execute_result"
    }
   ],
   "source": [
    "data_output_lookerstudio[\"geo_point\"] = data_output_lookerstudio.apply(lambda row: f\"POINT({row['longitude']} {row['latitude']})\", axis=1)\n",
    "data_output_lookerstudio.info()\n",
    "data_output_lookerstudio.head(2)"
   ]
  },
  {
   "cell_type": "code",
   "execution_count": null,
   "metadata": {},
   "outputs": [],
   "source": [
    "# modificar segun entorno local\n",
    "os.chdir(\"/Users/manuel/gdrive/prgrmmng/courses/henry/pg_restaurantes/data\")\n",
    "data_output_lookerstudio.to_csv(os.path.join('data_output_lookerstudio.csv'))"
   ]
  }
 ],
 "metadata": {
  "kernelspec": {
   "display_name": "pandas_scikit",
   "language": "python",
   "name": "python3"
  },
  "language_info": {
   "codemirror_mode": {
    "name": "ipython",
    "version": 3
   },
   "file_extension": ".py",
   "mimetype": "text/x-python",
   "name": "python",
   "nbconvert_exporter": "python",
   "pygments_lexer": "ipython3",
   "version": "3.10.13"
  }
 },
 "nbformat": 4,
 "nbformat_minor": 2
}
