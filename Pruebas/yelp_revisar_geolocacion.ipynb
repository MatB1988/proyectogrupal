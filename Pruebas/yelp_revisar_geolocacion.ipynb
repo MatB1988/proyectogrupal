{
 "cells": [
  {
   "cell_type": "code",
   "execution_count": 1,
   "metadata": {},
   "outputs": [
    {
     "name": "stdout",
     "output_type": "stream",
     "text": [
      "Download /Users/manuel/.uszipcode/comprehensive_db.sqlite from https://github.com/MacHu-GWU/uszipcode-project/releases/download/1.0.1.db/comprehensive_db.sqlite ...\n",
      "  50.00 MB downloaded ...\n",
      "  100.00 MB downloaded ...\n",
      "  150.00 MB downloaded ...\n",
      "  200.00 MB downloaded ...\n",
      "  250.00 MB downloaded ...\n",
      "  300.00 MB downloaded ...\n",
      "  350.00 MB downloaded ...\n",
      "  400.00 MB downloaded ...\n",
      "  Complete!\n"
     ]
    }
   ],
   "source": [
    "# manipulacion de archivos\n",
    "import os\n",
    "import json\n",
    "import warnings\n",
    "\n",
    "# manipulacion y transformacion de datos\n",
    "import numpy as np\n",
    "import pandas as pd\n",
    "\n",
    "# libreria con datos por codigo postal segun US Census 2010\n",
    "from uszipcode import SearchEngine\n",
    "zcengine = SearchEngine(simple_or_comprehensive=SearchEngine.SimpleOrComprehensiveArgEnum.comprehensive)"
   ]
  },
  {
   "cell_type": "code",
   "execution_count": 2,
   "metadata": {},
   "outputs": [],
   "source": [
    "# modificar segun entorno local\n",
    "os.chdir( \"/Volumes/hd_mvf_datasets/henry_data\")\n",
    "folder_yelp = \"yelp\"\n",
    "\n",
    "# no modificar\n",
    "folder_data = \"1_external\"\n",
    "folder_pipeline = \"2_pipeline\"\n",
    "folder_output = \"3_output\""
   ]
  },
  {
   "cell_type": "code",
   "execution_count": 3,
   "metadata": {},
   "outputs": [
    {
     "name": "stdout",
     "output_type": "stream",
     "text": [
      "<class 'pandas.core.frame.DataFrame'>\n",
      "Index: 150346 entries, 0 to 150345\n",
      "Data columns (total 14 columns):\n",
      " #   Column        Non-Null Count   Dtype  \n",
      "---  ------        --------------   -----  \n",
      " 0   business_id   150346 non-null  string \n",
      " 1   name          150346 non-null  string \n",
      " 2   address       150346 non-null  string \n",
      " 3   city          150346 non-null  string \n",
      " 4   state         150343 non-null  string \n",
      " 5   postal_code   150346 non-null  string \n",
      " 6   latitude      150346 non-null  Float64\n",
      " 7   longitude     150346 non-null  Float64\n",
      " 8   stars         150346 non-null  Float64\n",
      " 9   review_count  150346 non-null  Int64  \n",
      " 10  is_open       150346 non-null  Int64  \n",
      " 11  attributes    136602 non-null  object \n",
      " 12  categories    150243 non-null  string \n",
      " 13  hours         127123 non-null  object \n",
      "dtypes: Float64(3), Int64(2), object(2), string(7)\n",
      "memory usage: 17.9+ MB\n"
     ]
    },
    {
     "data": {
      "text/html": [
       "<div>\n",
       "<style scoped>\n",
       "    .dataframe tbody tr th:only-of-type {\n",
       "        vertical-align: middle;\n",
       "    }\n",
       "\n",
       "    .dataframe tbody tr th {\n",
       "        vertical-align: top;\n",
       "    }\n",
       "\n",
       "    .dataframe thead th {\n",
       "        text-align: right;\n",
       "    }\n",
       "</style>\n",
       "<table border=\"1\" class=\"dataframe\">\n",
       "  <thead>\n",
       "    <tr style=\"text-align: right;\">\n",
       "      <th></th>\n",
       "      <th>business_id</th>\n",
       "      <th>name</th>\n",
       "      <th>address</th>\n",
       "      <th>city</th>\n",
       "      <th>state</th>\n",
       "      <th>postal_code</th>\n",
       "      <th>latitude</th>\n",
       "      <th>longitude</th>\n",
       "      <th>stars</th>\n",
       "      <th>review_count</th>\n",
       "      <th>is_open</th>\n",
       "      <th>attributes</th>\n",
       "      <th>categories</th>\n",
       "      <th>hours</th>\n",
       "    </tr>\n",
       "  </thead>\n",
       "  <tbody>\n",
       "    <tr>\n",
       "      <th>0</th>\n",
       "      <td>Pns2l4eNsfO8kk83dixA6A</td>\n",
       "      <td>Abby Rappoport, LAC, CMQ</td>\n",
       "      <td>1616 Chapala St, Ste 2</td>\n",
       "      <td>Santa Barbara</td>\n",
       "      <td>&lt;NA&gt;</td>\n",
       "      <td>93101</td>\n",
       "      <td>34.426679</td>\n",
       "      <td>-119.711197</td>\n",
       "      <td>5.0</td>\n",
       "      <td>7</td>\n",
       "      <td>0</td>\n",
       "      <td>{'ByAppointmentOnly': 'True'}</td>\n",
       "      <td>Doctors, Traditional Chinese Medicine, Naturop...</td>\n",
       "      <td>None</td>\n",
       "    </tr>\n",
       "    <tr>\n",
       "      <th>1</th>\n",
       "      <td>mpf3x-BjTdTEA3yCZrAYPw</td>\n",
       "      <td>The UPS Store</td>\n",
       "      <td>87 Grasso Plaza Shopping Center</td>\n",
       "      <td>Affton</td>\n",
       "      <td>&lt;NA&gt;</td>\n",
       "      <td>63123</td>\n",
       "      <td>38.551126</td>\n",
       "      <td>-90.335695</td>\n",
       "      <td>3.0</td>\n",
       "      <td>15</td>\n",
       "      <td>1</td>\n",
       "      <td>{'BusinessAcceptsCreditCards': 'True'}</td>\n",
       "      <td>Shipping Centers, Local Services, Notaries, Ma...</td>\n",
       "      <td>{'Monday': '0:0-0:0', 'Tuesday': '8:0-18:30', ...</td>\n",
       "    </tr>\n",
       "  </tbody>\n",
       "</table>\n",
       "</div>"
      ],
      "text/plain": [
       "              business_id                      name  \\\n",
       "0  Pns2l4eNsfO8kk83dixA6A  Abby Rappoport, LAC, CMQ   \n",
       "1  mpf3x-BjTdTEA3yCZrAYPw             The UPS Store   \n",
       "\n",
       "                           address           city state postal_code  \\\n",
       "0           1616 Chapala St, Ste 2  Santa Barbara  <NA>       93101   \n",
       "1  87 Grasso Plaza Shopping Center         Affton  <NA>       63123   \n",
       "\n",
       "    latitude   longitude  stars  review_count  is_open  \\\n",
       "0  34.426679 -119.711197    5.0             7        0   \n",
       "1  38.551126  -90.335695    3.0            15        1   \n",
       "\n",
       "                               attributes  \\\n",
       "0           {'ByAppointmentOnly': 'True'}   \n",
       "1  {'BusinessAcceptsCreditCards': 'True'}   \n",
       "\n",
       "                                          categories  \\\n",
       "0  Doctors, Traditional Chinese Medicine, Naturop...   \n",
       "1  Shipping Centers, Local Services, Notaries, Ma...   \n",
       "\n",
       "                                               hours  \n",
       "0                                               None  \n",
       "1  {'Monday': '0:0-0:0', 'Tuesday': '8:0-18:30', ...  "
      ]
     },
     "execution_count": 3,
     "metadata": {},
     "output_type": "execute_result"
    }
   ],
   "source": [
    "business_df = pd.read_pickle(os.path.join(folder_data,folder_yelp, 'business.pkl')).convert_dtypes().iloc[:, :14]\n",
    "business_df.info()\n",
    "business_df.head(2)"
   ]
  },
  {
   "cell_type": "code",
   "execution_count": 5,
   "metadata": {},
   "outputs": [
    {
     "name": "stdout",
     "output_type": "stream",
     "text": [
      "96.26 %\n"
     ]
    }
   ],
   "source": [
    "# business_df[\"postal_code\"] = business_df[\"postal_code\"].astype(int)\n",
    "business_df_usa = business_df[pd.to_numeric(business_df[\"postal_code\"], errors=\"coerce\").notnull()].copy()\n",
    "print(round(len(business_df_usa) / len(business_df) * 100,2),\"%\")"
   ]
  },
  {
   "cell_type": "code",
   "execution_count": 6,
   "metadata": {},
   "outputs": [
    {
     "name": "stdout",
     "output_type": "stream",
     "text": [
      "<class 'pandas.core.frame.DataFrame'>\n",
      "Index: 43415 entries, 128287 to 42343\n",
      "Data columns (total 14 columns):\n",
      " #   Column        Non-Null Count  Dtype  \n",
      "---  ------        --------------  -----  \n",
      " 0   business_id   43415 non-null  string \n",
      " 1   name          43415 non-null  string \n",
      " 2   address       43415 non-null  string \n",
      " 3   city          43415 non-null  string \n",
      " 4   state         43415 non-null  string \n",
      " 5   postal_code   43415 non-null  string \n",
      " 6   latitude      43415 non-null  Float64\n",
      " 7   longitude     43415 non-null  Float64\n",
      " 8   stars         43415 non-null  Float64\n",
      " 9   review_count  43415 non-null  Int64  \n",
      " 10  is_open       43415 non-null  Int64  \n",
      " 11  attributes    39511 non-null  object \n",
      " 12  categories    43381 non-null  string \n",
      " 13  hours         36706 non-null  object \n",
      "dtypes: Float64(3), Int64(2), object(2), string(7)\n",
      "memory usage: 5.2+ MB\n"
     ]
    },
    {
     "data": {
      "text/html": [
       "<div>\n",
       "<style scoped>\n",
       "    .dataframe tbody tr th:only-of-type {\n",
       "        vertical-align: middle;\n",
       "    }\n",
       "\n",
       "    .dataframe tbody tr th {\n",
       "        vertical-align: top;\n",
       "    }\n",
       "\n",
       "    .dataframe thead th {\n",
       "        text-align: right;\n",
       "    }\n",
       "</style>\n",
       "<table border=\"1\" class=\"dataframe\">\n",
       "  <thead>\n",
       "    <tr style=\"text-align: right;\">\n",
       "      <th></th>\n",
       "      <th>business_id</th>\n",
       "      <th>name</th>\n",
       "      <th>address</th>\n",
       "      <th>city</th>\n",
       "      <th>state</th>\n",
       "      <th>postal_code</th>\n",
       "      <th>latitude</th>\n",
       "      <th>longitude</th>\n",
       "      <th>stars</th>\n",
       "      <th>review_count</th>\n",
       "      <th>is_open</th>\n",
       "      <th>attributes</th>\n",
       "      <th>categories</th>\n",
       "      <th>hours</th>\n",
       "    </tr>\n",
       "  </thead>\n",
       "  <tbody>\n",
       "    <tr>\n",
       "      <th>128287</th>\n",
       "      <td>OL-rfiSIdVIsndUZ6ueWMA</td>\n",
       "      <td>Jimmy John's</td>\n",
       "      <td>1410 66th St</td>\n",
       "      <td>St. Petersburg</td>\n",
       "      <td>PA</td>\n",
       "      <td>33710</td>\n",
       "      <td>27.785563</td>\n",
       "      <td>-82.728919</td>\n",
       "      <td>2.5</td>\n",
       "      <td>25</td>\n",
       "      <td>1</td>\n",
       "      <td>{'RestaurantsReservations': 'False', 'Restaura...</td>\n",
       "      <td>Restaurants, Sandwiches, Food, Caterers, Food ...</td>\n",
       "      <td>{'Monday': '11:0-22:0', 'Tuesday': '11:0-22:0'...</td>\n",
       "    </tr>\n",
       "    <tr>\n",
       "      <th>2286</th>\n",
       "      <td>AFIkxCPqO7613NHEIL8abQ</td>\n",
       "      <td>Heritage's</td>\n",
       "      <td>501 Beckett Rd</td>\n",
       "      <td>Swedesboro</td>\n",
       "      <td>TN</td>\n",
       "      <td>08085</td>\n",
       "      <td>39.758094</td>\n",
       "      <td>-75.355678</td>\n",
       "      <td>4.5</td>\n",
       "      <td>5</td>\n",
       "      <td>1</td>\n",
       "      <td>{'RestaurantsReservations': 'False', 'Ambience...</td>\n",
       "      <td>Food, Breakfast &amp; Brunch, Convenience Stores, ...</td>\n",
       "      <td>None</td>\n",
       "    </tr>\n",
       "  </tbody>\n",
       "</table>\n",
       "</div>"
      ],
      "text/plain": [
       "                   business_id          name         address            city  \\\n",
       "128287  OL-rfiSIdVIsndUZ6ueWMA  Jimmy John's    1410 66th St  St. Petersburg   \n",
       "2286    AFIkxCPqO7613NHEIL8abQ    Heritage's  501 Beckett Rd      Swedesboro   \n",
       "\n",
       "       state postal_code   latitude  longitude  stars  review_count  is_open  \\\n",
       "128287    PA       33710  27.785563 -82.728919    2.5            25        1   \n",
       "2286      TN       08085  39.758094 -75.355678    4.5             5        1   \n",
       "\n",
       "                                               attributes  \\\n",
       "128287  {'RestaurantsReservations': 'False', 'Restaura...   \n",
       "2286    {'RestaurantsReservations': 'False', 'Ambience...   \n",
       "\n",
       "                                               categories  \\\n",
       "128287  Restaurants, Sandwiches, Food, Caterers, Food ...   \n",
       "2286    Food, Breakfast & Brunch, Convenience Stores, ...   \n",
       "\n",
       "                                                    hours  \n",
       "128287  {'Monday': '11:0-22:0', 'Tuesday': '11:0-22:0'...  \n",
       "2286                                                 None  "
      ]
     },
     "execution_count": 6,
     "metadata": {},
     "output_type": "execute_result"
    }
   ],
   "source": [
    "sample = round(len(business_df_usa) * 0.3)\n",
    "business_df_sample = business_df_usa.sample(n=sample).copy()\n",
    "business_df_sample.info()\n",
    "business_df_sample.head(2)"
   ]
  },
  {
   "cell_type": "code",
   "execution_count": 19,
   "metadata": {},
   "outputs": [
    {
     "data": {
      "text/plain": [
       "[{'key': 'Data',\n",
       "  'values': [{'x': '$1-$24,999', 'y': 138},\n",
       "   {'x': '$25,000-$49,999', 'y': 84},\n",
       "   {'x': '$50,000-$99,999', 'y': 975},\n",
       "   {'x': '$100,000-$149,999', 'y': 980},\n",
       "   {'x': '$150,000-$199,999', 'y': 1133},\n",
       "   {'x': '$200,000-$399,999', 'y': 1534},\n",
       "   {'x': '$400,000-$749,999', 'y': 858},\n",
       "   {'x': '$750,000+', 'y': 156}]}]"
      ]
     },
     "execution_count": 19,
     "metadata": {},
     "output_type": "execute_result"
    }
   ],
   "source": [
    "ejemplo = zcengine.by_coordinates(28.045327,-82.681849, radius=1, returns=2)\n",
    "ejemplo[0].owner_occupied_home_values"
   ]
  },
  {
   "cell_type": "code",
   "execution_count": 7,
   "metadata": {},
   "outputs": [],
   "source": [
    "business_df_sample[\"postal_code_check\"] = np.nan\n",
    "business_df_sample[\"state_check\"] = np.nan\n",
    "business_df_sample[\"city_check\"] = np.nan\n",
    "warnings.simplefilter(action='ignore', category=Warning)\n",
    "for i in business_df_sample.index:\n",
    "    lat = business_df_sample._get_value(i, \"latitude\")\n",
    "    lng = business_df_sample._get_value(i, \"longitude\")\n",
    "    zipcode = zcengine.by_coordinates(lat,lng, radius=10, returns=2)\n",
    "    try:\n",
    "        business_df_sample[\"postal_code_check\"].iloc[business_df_sample.index==i] = zipcode[0].zipcode\n",
    "        business_df_sample[\"state_check\"].iloc[business_df_sample.index==i] = zipcode[0].state\n",
    "        business_df_sample[\"city_check\"].iloc[business_df_sample.index==i] = zipcode[0].major_city\n",
    "    except:\n",
    "        business_df_sample[\"postal_code_check\"].iloc[business_df_sample.index==i] = np.nan\n",
    "        business_df_sample[\"state_check\"].iloc[business_df_sample.index==i] = np.nan\n",
    "        business_df_sample[\"city_check\"].iloc[business_df_sample.index==i] = np.nan\n",
    "warnings.resetwarnings()"
   ]
  },
  {
   "cell_type": "code",
   "execution_count": 8,
   "metadata": {},
   "outputs": [
    {
     "name": "stdout",
     "output_type": "stream",
     "text": [
      "<class 'pandas.core.frame.DataFrame'>\n",
      "Index: 113484 entries, 53749 to 79623\n",
      "Data columns (total 17 columns):\n",
      " #   Column             Non-Null Count   Dtype  \n",
      "---  ------             --------------   -----  \n",
      " 0   business_id        113484 non-null  string \n",
      " 1   name               113484 non-null  string \n",
      " 2   address            113484 non-null  string \n",
      " 3   city               113484 non-null  string \n",
      " 4   state              113484 non-null  string \n",
      " 5   postal_code        113484 non-null  string \n",
      " 6   latitude           113484 non-null  Float64\n",
      " 7   longitude          113484 non-null  Float64\n",
      " 8   stars              113484 non-null  Float64\n",
      " 9   review_count       113484 non-null  Int64  \n",
      " 10  is_open            113484 non-null  Int64  \n",
      " 11  attributes         113484 non-null  object \n",
      " 12  categories         113484 non-null  string \n",
      " 13  hours              113484 non-null  object \n",
      " 14  postal_code_check  113484 non-null  string \n",
      " 15  state_check        113484 non-null  string \n",
      " 16  city_check         113484 non-null  string \n",
      "dtypes: Float64(3), Int64(2), object(2), string(10)\n",
      "memory usage: 16.1+ MB\n"
     ]
    }
   ],
   "source": [
    "business_df_sample_flag = business_df_sample.dropna().copy().convert_dtypes()\n",
    "business_df_sample_flag.info()"
   ]
  },
  {
   "cell_type": "code",
   "execution_count": 9,
   "metadata": {},
   "outputs": [
    {
     "name": "stdout",
     "output_type": "stream",
     "text": [
      "78.42 %\n"
     ]
    }
   ],
   "source": [
    "print(round(len(business_df_sample_flag) / len(business_df_sample) * 100,2),\"%\")"
   ]
  },
  {
   "cell_type": "code",
   "execution_count": 10,
   "metadata": {},
   "outputs": [
    {
     "data": {
      "text/plain": [
       "postalcode_flag          29.947834\n",
       "postalcode_flag_round    21.013535\n",
       "state_flag               87.802686\n",
       "city_flag                16.952169\n",
       "dtype: float64"
      ]
     },
     "execution_count": 10,
     "metadata": {},
     "output_type": "execute_result"
    }
   ],
   "source": [
    "business_df_sample_flag[\"postalcode_flag\"] = np.where(business_df_sample_flag[\"postal_code\"] != business_df_sample_flag[\"postal_code_check\"], 1, 0)\n",
    "business_df_sample_flag[\"postalcode_flag_round\"] = np.where(\n",
    "    round(business_df_sample_flag[\"postal_code\"].astype(int),-1) != round(business_df_sample_flag[\"postal_code_check\"].astype(int),-1), 1, 0)\n",
    "business_df_sample_flag[\"state_flag\"] = np.where(business_df_sample_flag[\"state\"] != business_df_sample_flag[\"state_check\"], 1, 0)\n",
    "business_df_sample_flag[\"city_flag\"] = np.where(business_df_sample_flag[\"city\"] != business_df_sample_flag[\"city_check\"], 1, 0)\n",
    "business_df_sample_flag_state = business_df_sample_flag.loc[business_df_sample_flag[\"state_flag\"] == 1].copy()\n",
    "business_df_sample_flag_state[[\"postalcode_flag\",\"postalcode_flag_round\",\"state_flag\",\"city_flag\"]].sum()/len(business_df_sample_flag.index)*100"
   ]
  }
 ],
 "metadata": {
  "kernelspec": {
   "display_name": "pandas_scikit",
   "language": "python",
   "name": "python3"
  },
  "language_info": {
   "codemirror_mode": {
    "name": "ipython",
    "version": 3
   },
   "file_extension": ".py",
   "mimetype": "text/x-python",
   "name": "python",
   "nbconvert_exporter": "python",
   "pygments_lexer": "ipython3",
   "version": "3.10.13"
  },
  "orig_nbformat": 4
 },
 "nbformat": 4,
 "nbformat_minor": 2
}
